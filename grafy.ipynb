{
 "cells": [
  {
   "cell_type": "code",
   "execution_count": null,
   "id": "0e5d0ae8-5ce5-4e01-aab4-f6d12129455a",
   "metadata": {},
   "outputs": [],
   "source": [
    "### Proszę zrunować ten notatnik a na dole jest komander, który automatycznie\n",
    "# wykona procedury"
   ]
  },
  {
   "cell_type": "code",
   "execution_count": 1,
   "id": "9d8f2277-d6c7-4921-871c-91d4ca825083",
   "metadata": {},
   "outputs": [],
   "source": [
    "import networkx as nx\n",
    "import matplotlib.pyplot as plt"
   ]
  },
  {
   "cell_type": "markdown",
   "id": "bb281324-758f-4044-b975-a8a00424ab1b",
   "metadata": {
    "tags": []
   },
   "source": [
    "### T_pqr"
   ]
  },
  {
   "cell_type": "code",
   "execution_count": 2,
   "id": "8330a73e-cfaa-473e-a66e-24d5809956e5",
   "metadata": {},
   "outputs": [],
   "source": [
    "# Tworzenie grafu pzrez funkcję\n",
    "def T_pqr(p,q,r):\n",
    "    G = nx.Graph()\n",
    "    if p> 2 and q>2 and r >2:\n",
    "        for i in range(p+q+r-2):\n",
    "            G.add_node(i, waga=i)\n",
    "        for i in range (0, p-1):\n",
    "            G.add_edge(i,i+1)\n",
    "        for i in range (p,p+q-2):\n",
    "            G.add_edge(i,i+1)\n",
    "            G.add_edge(0,p)\n",
    "        for i in range(p+q-1,p+q+r-3):\n",
    "            G.add_edge(i,i+1)\n",
    "            G.add_edge(0,p+q-1)\n",
    "    if p == 1 or q ==1 or r == 1:\n",
    "        for i in range(p+q+r-2):\n",
    "            G.add_node(i, waga=i)\n",
    "        for i in range (0, p+q+r-3):\n",
    "            G.add_edge(i,i+1)\n",
    "    if p == 2:\n",
    "        for i in range(0,p+q+r-2):\n",
    "            G.add_node(i, waga=i)\n",
    "        for i in range (0, 1):\n",
    "            G.add_edge(i,i+1)\n",
    "        for i in range (2,q):\n",
    "            G.add_edge(i,i+1)\n",
    "            G.add_edge(0,2)\n",
    "        for i in range(q+1,q+r-1):\n",
    "            G.add_edge(i,i+1)\n",
    "            G.add_edge(0,q+1)\n",
    "    if q ==2 :\n",
    "        for i in range(0,p+q+r-2):\n",
    "            G.add_node(i, waga=i)\n",
    "        for i in range (0, p-1):\n",
    "            G.add_edge(i,i+1)\n",
    "            G.add_edge(0,p)\n",
    "        for i in range(p+2,p+q+r-3):\n",
    "            G.add_edge(i,i+1)\n",
    "            G.add_edge(0,p+2)\n",
    "    if r == 2:\n",
    "        for i in range(0,p+q+r-2):\n",
    "            G.add_node(i, waga=i)\n",
    "        for i in range (0, p-1):\n",
    "            G.add_edge(i,i+1)\n",
    "        for i in range (p,p+q-2):\n",
    "            G.add_edge(i,i+1)\n",
    "            G.add_edge(0,p)\n",
    "        G.add_edge(0,p+q-1)\n",
    "    return G"
   ]
  },
  {
   "cell_type": "markdown",
   "id": "5f22c16a-332e-4459-9fec-ce1aee5fa615",
   "metadata": {
    "tags": []
   },
   "source": [
    "### T_pqr DLA UST. p,q,r o skończonych reprezentacjach"
   ]
  },
  {
   "cell_type": "code",
   "execution_count": 3,
   "id": "a370a417-6026-480b-b4e9-01e907a6d780",
   "metadata": {},
   "outputs": [
    {
     "data": {
      "image/png": "[encoded data removed]",
      "text/plain": [
       "<Figure size 640x480 with 1 Axes>"
      ]
     },
     "metadata": {},
     "output_type": "display_data"
    }
   ],
   "source": [
    "D5 = T_pqr(2,2,3)\n",
    "labels = {n: D5.nodes[n] for n in D5.nodes}\n",
    "nx.draw(D5, with_labels=True, node_size=500, node_color='lightblue', font_weight='bold')\n",
    "plt.show()"
   ]
  },
  {
   "cell_type": "markdown",
   "id": "cff09b9e-be73-42fe-a71d-921850c6d9fe",
   "metadata": {
    "tags": []
   },
   "source": [
    "### WAGI WIERZCHOŁKÓW z listy"
   ]
  },
  {
   "cell_type": "code",
   "execution_count": 4,
   "id": "aba30c3d-e3b8-4a43-862a-8b76e1b6511a",
   "metadata": {},
   "outputs": [],
   "source": [
    "def nadawanie_wag(G, wagi_lista):\n",
    "    wagi = []\n",
    "    for idx, weight in enumerate(wagi_lista):\n",
    "        G.add_node(idx, weight=weight) \n",
    "    for _, w in G.nodes(data='weight'):\n",
    "        wagi.append(w)\n",
    "    return wagi"
   ]
  },
  {
   "cell_type": "code",
   "execution_count": 5,
   "id": "497294c7-8468-4648-bf24-55e5367c8275",
   "metadata": {},
   "outputs": [
    {
     "data": {
      "text/plain": [
       "[-1, -2, -3, 0, None]"
      ]
     },
     "execution_count": 5,
     "metadata": {},
     "output_type": "execute_result"
    }
   ],
   "source": [
    "nadawanie_wag(D5, [-1,-2,-3,0])"
   ]
  },
  {
   "cell_type": "markdown",
   "id": "16b21acf-fd7a-4814-acb3-87970941b6bf",
   "metadata": {},
   "source": [
    "### Odbicie do listy"
   ]
  },
  {
   "cell_type": "code",
   "execution_count": 6,
   "id": "d712d72a-8e8c-47e4-82a8-334948fa1dcf",
   "metadata": {},
   "outputs": [],
   "source": [
    "def odbicie(G, node):\n",
    "    #jeśli chcesz sprawdzić, czy odbicie działa oraz chcesz mieć wypisane wagi, komenda poniżej to umożliwia:\n",
    "    #print(nadawanie_wag(G, wagi_lista))\n",
    "    \n",
    "    wagi = [] \n",
    "    \n",
    "    neighbors = list(G.neighbors(node))\n",
    "    \n",
    "    nowa_waga1 = - G.nodes[node]['weight']\n",
    "    G.nodes[node]['weight'] = nowa_waga1\n",
    "    \n",
    "    for neighbor in neighbors:\n",
    "        nowa_waga = G.nodes[neighbor]['weight'] -  G.nodes[node]['weight']\n",
    "        G.nodes[neighbor]['weight'] = nowa_waga\n",
    "    for _, w in G.nodes(data='weight'):\n",
    "        wagi.append(w)\n",
    "    return wagi"
   ]
  },
  {
   "cell_type": "code",
   "execution_count": 7,
   "id": "cde593bc-3ba6-4884-98bf-e5e6be241239",
   "metadata": {},
   "outputs": [
    {
     "data": {
      "text/plain": [
       "[1, -3, -4, -1, None]"
      ]
     },
     "execution_count": 7,
     "metadata": {},
     "output_type": "execute_result"
    }
   ],
   "source": [
    "odbicie(D5,0)"
   ]
  },
  {
   "cell_type": "markdown",
   "id": "31fc5121-9384-4257-b6f8-c20d88a62dd2",
   "metadata": {},
   "source": [
    "### ro"
   ]
  },
  {
   "cell_type": "code",
   "execution_count": 8,
   "id": "c7edae33-fbbd-480e-b161-4678c075ef7e",
   "metadata": {},
   "outputs": [],
   "source": [
    "def ro_1(G):    \n",
    "    weights = []\n",
    "    for node in G.nodes():\n",
    "        G.nodes[node]['weight'] -= 1\n",
    "        weights.append( G.nodes[node]['weight'])\n",
    "    return weights"
   ]
  },
  {
   "cell_type": "code",
   "execution_count": 9,
   "id": "6771f2bb-4d37-494e-ba59-1ca721f62cbf",
   "metadata": {},
   "outputs": [],
   "source": [
    "def ro_2(G):    \n",
    "    weights = []\n",
    "    for node in G.nodes():\n",
    "        G.nodes[node]['weight'] += 1\n",
    "        weights.append( G.nodes[node]['weight'])\n",
    "    return weights"
   ]
  },
  {
   "cell_type": "markdown",
   "id": "9ae0a7f9-1217-4bc0-9ae4-188c48fdd02f",
   "metadata": {},
   "source": [
    "# omijania miejsc"
   ]
  },
  {
   "cell_type": "markdown",
   "id": "62328bc9-e69b-463e-908a-961798a87614",
   "metadata": {
    "tags": []
   },
   "source": [
    "### Eliminacja minusów"
   ]
  },
  {
   "cell_type": "code",
   "execution_count": 10,
   "id": "1ce02990-871d-4299-af33-fc64b292521e",
   "metadata": {
    "tags": []
   },
   "outputs": [],
   "source": [
    "# aby zwiększyć liczbę iteracji do k iteracji, zrób to proszę w miejscu:    \n",
    "# while count < k:\n",
    "\n",
    "#ten program odbija w wierzchołkach ujemnych po kolei bez sortu na nich\n",
    "\n",
    "def zmiana_na_dodatnie_obl(G, wagi_lista):\n",
    "    def pozytywne(G):\n",
    "        for node, data in G.nodes(data=True):\n",
    "            if data['weight'] is not None and data['weight'] < 0:\n",
    "                return False\n",
    "        return True\n",
    "    count = 0\n",
    "    nodes_z_odbiciem = []\n",
    "    wagi = []\n",
    "    \n",
    "    nadawanie_wag(G, wagi_lista)\n",
    "    while count < 10000:\n",
    "        nodes_ujemne = [node for node, data in G.nodes(data=True) if isinstance(data.get('weight'), (int, float)) and data['weight'] < 0]\n",
    "\n",
    "        for node in nodes_ujemne:\n",
    "            odbicie(G, node)\n",
    "            nodes_z_odbiciem.append(node)\n",
    "        count += 1\n",
    "\n",
    "        if pozytywne(G):\n",
    "            break\n",
    "            \n",
    "    for _, w in G.nodes(data='weight'):\n",
    "        wagi.append(w) \n",
    "    print(f\"Wierzchołki w kolejności wywoływania:  {nodes_z_odbiciem}, wagi na końcu: {wagi}, count= {count}\")"
   ]
  },
  {
   "cell_type": "code",
   "execution_count": 11,
   "id": "dddae678-ff44-4449-b91f-641bbf0c5f88",
   "metadata": {},
   "outputs": [
    {
     "name": "stdout",
     "output_type": "stream",
     "text": [
      "Wierzchołki w kolejności wywoływania:  [0, 1, 2, 3, 0, 4, 1, 2, 3, 0, 4, 1, 2, 3, 0], wagi na końcu: [1, 0, 0, 0, 0], count= 7\n"
     ]
    }
   ],
   "source": [
    "wagi_lista = [-1,0,0,0,0]\n",
    "G = T_pqr(2,2,3)\n",
    "zmiana_na_dodatnie_obl(G,wagi_lista)"
   ]
  },
  {
   "cell_type": "code",
   "execution_count": 12,
   "id": "f1f1ad09-6c30-48f0-92bd-6793c71b5d75",
   "metadata": {},
   "outputs": [],
   "source": [
    "# aby zwiększyć liczbę iteracji do k iteracji, zrób to proszę w miejscu:    \n",
    "# while count < k:\n",
    "\n",
    "#ten program odbija zawsze w najmniejszym wierzchołku\n",
    "\n",
    "def zmiana_na_dodatnie(G, wagi_lista):\n",
    "    def pozytywne(G):\n",
    "        for node, data in G.nodes(data=True):\n",
    "            if data['weight'] is not None and data['weight'] < 0:\n",
    "                return False\n",
    "        return True\n",
    "    count = 0\n",
    "    nodes_z_odbiciem = []\n",
    "    wagi = []\n",
    "    \n",
    "    nadawanie_wag(G, wagi_lista)\n",
    "    while count < 10000:\n",
    "        sorted_nodes = sorted(G.nodes(data=True), key=lambda x: x[1][\"weight\"], reverse=True)\n",
    "        nodes_ujemne = [node for node, data in sorted_nodes if isinstance(data['weight'], (int, float)) and data['weight'] < 0]\n",
    "\n",
    "        for node in nodes_ujemne:\n",
    "            odbicie(G, node)\n",
    "            nodes_z_odbiciem.append(node)\n",
    "        count += 1\n",
    "\n",
    "        if pozytywne(G):\n",
    "            break\n",
    "            \n",
    "    for _, w in G.nodes(data='weight'):\n",
    "        wagi.append(w) \n",
    "    print(f\"Wierzchołki w kolejności wywoływania:  {nodes_z_odbiciem}, wagi na końcu: {wagi}, count= {count}\")"
   ]
  },
  {
   "cell_type": "code",
   "execution_count": 13,
   "id": "129ef9ea-f177-4223-b7ad-14e632082593",
   "metadata": {},
   "outputs": [
    {
     "name": "stdout",
     "output_type": "stream",
     "text": [
      "Wierzchołki w kolejności wywoływania:  [0, 1, 2, 3, 4, 0, 1, 2, 3, 4, 0, 1, 2, 3, 0], wagi na końcu: [1, 0, 0, 0, 0], count= 7\n"
     ]
    }
   ],
   "source": [
    "wagi_lista = [-1,0,0,0,0]\n",
    "G = T_pqr(2,2,3)\n",
    "zmiana_na_dodatnie(G,wagi_lista)"
   ]
  },
  {
   "cell_type": "markdown",
   "id": "27facdc3-da8d-4741-abdc-9a572935a1e7",
   "metadata": {
    "tags": []
   },
   "source": [
    "### Eliminacja plusów"
   ]
  },
  {
   "cell_type": "code",
   "execution_count": 14,
   "id": "eec7ab6d-f060-42b5-ad35-940496e5b1af",
   "metadata": {},
   "outputs": [],
   "source": [
    "# aby zwiększyć liczbę iteracji do k iteracji, zrób to proszę w miejscu:    \n",
    "# while count < k:\n",
    "\n",
    "#ten program odbija w wierzchołkach ujemnych po kolei bez sortu na nich\n",
    "def zmiana_na_ujemne_obl(G, wagi_lista):\n",
    "    def ujemne(G):\n",
    "        for node, w in G.nodes(data='weight'):\n",
    "            if w is not None and w > 0:\n",
    "                return False\n",
    "        return True\n",
    "    nodes_z_odbiciem = []\n",
    "    wagi = []\n",
    "    count= 0\n",
    "    \n",
    "    nadawanie_wag(G, wagi_lista)\n",
    "    \n",
    "    while count < 10000: \n",
    "        nodes_dodatnie = [node for node, data in G.nodes(data = True) if isinstance(data.get('weight'), (int, float)) and data['weight'] > 0]\n",
    "        for node in nodes_dodatnie:\n",
    "            odbicie(G, node)\n",
    "            nodes_z_odbiciem.append(node)\n",
    "        count+=1\n",
    "        \n",
    "        if ujemne(G):\n",
    "            break\n",
    "            \n",
    "    for _, w in G.nodes(data='weight'):\n",
    "        wagi.append(w) \n",
    "    print(f\"Wierzchołki w kolejności wywoływania:  {nodes_z_odbiciem}, wagi na końcu: {wagi}, count = {count}\")"
   ]
  },
  {
   "cell_type": "code",
   "execution_count": 15,
   "id": "b7308f0e-0eae-478a-bfeb-1f36814bfe50",
   "metadata": {},
   "outputs": [
    {
     "name": "stdout",
     "output_type": "stream",
     "text": [
      "Wierzchołki w kolejności wywoływania:  [0, 1, 2, 4, 0, 3, 0, 1, 2, 4, 0, 3, 0, 1, 2, 4, 0, 1, 2], wagi na końcu: [-1, -1, -1, 0, -1], count = 7\n"
     ]
    }
   ],
   "source": [
    "wagi_lista = [1,1,1,0,1]\n",
    "G = T_pqr(2,2,3)\n",
    "zmiana_na_ujemne_obl(G,wagi_lista)"
   ]
  },
  {
   "cell_type": "code",
   "execution_count": 16,
   "id": "9e8ee09f-06d2-4825-b84e-196456818d56",
   "metadata": {},
   "outputs": [],
   "source": [
    "# aby zwiększyć liczbę iteracji do k iteracji, zrób to proszę w miejscu:    \n",
    "# while count < k:\n",
    "\n",
    "#ten program odbija zawsze w największym wierzchołku\n",
    "\n",
    "def zmiana_na_ujemne(G, wagi_lista):\n",
    "    def ujemne(G):\n",
    "        for node, w in G.nodes(data='weight'):\n",
    "            if w is not None and w > 0:\n",
    "                return False\n",
    "        return True\n",
    "    nodes_z_odbiciem = []\n",
    "    wagi = []\n",
    "    count= 0\n",
    "    \n",
    "    nadawanie_wag(G, wagi_lista)\n",
    "    \n",
    "    while count < 10000: \n",
    "        sorted_nodes = sorted(G.nodes(data=True), key=lambda x: x[1][\"weight\"], reverse=False)\n",
    "        nodes_dodatnie = [node for node, data in sorted_nodes if isinstance(data['weight'], (int, float)) and data['weight'] > 0]\n",
    "        for node in nodes_dodatnie:\n",
    "            odbicie(G, node)\n",
    "            nodes_z_odbiciem.append(node)\n",
    "        count+=1\n",
    "        \n",
    "        if ujemne(G):\n",
    "            break\n",
    "            \n",
    "    for _, w in G.nodes(data='weight'):\n",
    "        wagi.append(w) \n",
    "    print(f\"Wierzchołki w kolejności wywoływania:  {nodes_z_odbiciem}, wagi na końcu: {wagi}, count = {count}\")"
   ]
  },
  {
   "cell_type": "code",
   "execution_count": 17,
   "id": "dc59a94c-e8be-45a7-ba27-2e71d67cf0aa",
   "metadata": {},
   "outputs": [
    {
     "name": "stdout",
     "output_type": "stream",
     "text": [
      "Wierzchołki w kolejności wywoływania:  [0, 1, 2, 4, 3, 0, 4, 1, 2, 3, 4, 0, 1, 2, 3, 4, 0, 1, 2], wagi na końcu: [-1, -1, -1, 0, -1], count = 7\n"
     ]
    }
   ],
   "source": [
    "wagi_lista = [1,1,1,0,1]\n",
    "G = T_pqr(2,2,3)\n",
    "zmiana_na_ujemne(G,wagi_lista)"
   ]
  },
  {
   "cell_type": "markdown",
   "id": "855dca71-d1a2-4cf1-bcf9-9d2aab2bacd4",
   "metadata": {
    "tags": []
   },
   "source": [
    "### Omijanie miejsc plusów"
   ]
  },
  {
   "cell_type": "code",
   "execution_count": 23,
   "id": "f45a9a8a-0105-47f0-9970-790f17a98cb5",
   "metadata": {},
   "outputs": [],
   "source": [
    "def omijanie_dodatnich(G, wagi_lista, *args, count=0):\n",
    "    nodes_z_odbiciem = []\n",
    "    wagi = []\n",
    "    Y = set(args)\n",
    "    nadawanie_wag(G, wagi_lista)\n",
    "\n",
    "    while count <= 1000:\n",
    "        sorted_nodes = sorted(G.nodes(data=True), key=lambda x: x[1].get(\"weight\", float(\"inf\")), reverse=False)\n",
    "        nodes_dodatnie = [node for node, data in sorted_nodes if data.get(\"weight\", 0) < 0 and node not in Y]\n",
    "\n",
    "        if not nodes_dodatnie:\n",
    "            break\n",
    "        for node in nodes_dodatnie:\n",
    "            odbicie(G, node)\n",
    "            nodes_z_odbiciem.append(node)\n",
    "            count += 1\n",
    "\n",
    "        if count > 1000:\n",
    "            print(\"Maximum number of iterations reached. Exiting loop.\")\n",
    "            break\n",
    "\n",
    "    for _, w in G.nodes(data='weight'):\n",
    "        wagi.append(w)\n",
    "\n",
    "    print(f\"Wierzchołki w kolejności wywoływania:  {nodes_z_odbiciem}, wagi na końcu: {wagi}, count:  {count}\")\n"
   ]
  },
  {
   "cell_type": "code",
   "execution_count": 25,
   "id": "49e036c3-76ea-47cf-9a84-f79c381d5af7",
   "metadata": {},
   "outputs": [
    {
     "name": "stdout",
     "output_type": "stream",
     "text": [
      "Wierzchołki w kolejności wywoływania:  [0, 4, 3, 0, 4], wagi na końcu: [1, -1, -2, 0, 1], count:  5\n"
     ]
    }
   ],
   "source": [
    "wagi_lista = [-1,1,0,0,-1]\n",
    "G = T_pqr(2,2,3)\n",
    "omijanie_dodatnich(G, wagi_lista,1,2)"
   ]
  },
  {
   "cell_type": "code",
   "execution_count": 26,
   "id": "67cd46b7",
   "metadata": {},
   "outputs": [],
   "source": [
    "def omijanie_ujemnych(G, wagi_lista, *args, count=0):\n",
    "    nodes_z_odbiciem = []\n",
    "    wagi = []\n",
    "    Y = set(args)\n",
    "    nadawanie_wag(G, wagi_lista)\n",
    "\n",
    "    while count <= 1000:\n",
    "        sorted_nodes = sorted(G.nodes(data=True), key=lambda x: x[1].get(\"weight\", float(\"inf\")), reverse=False)\n",
    "        nodes_ujemne = [node for node, data in sorted_nodes if data.get(\"weight\", 0) < 0 and node not in Y]\n",
    "        \n",
    "        if not nodes_ujemne:\n",
    "            break \n",
    "        \n",
    "        for node in nodes_ujemne:\n",
    "            odbicie(G, node)\n",
    "            nodes_z_odbiciem.append(node)\n",
    "            count += 1\n",
    "\n",
    "            if count > 1000:\n",
    "                print(\"Maximum number of iterations reached. Exiting loop.\")\n",
    "                break\n",
    "    \n",
    "    for _, w in G.nodes(data='weight'):\n",
    "        wagi.append(w)\n",
    "\n",
    "    print(f\"Wierzchołki w kolejności wywoływania: {nodes_z_odbiciem}, wagi na końcu: {wagi}, count: {count}\")\n"
   ]
  },
  {
   "cell_type": "code",
   "execution_count": 27,
   "id": "678e060c-7e1d-4a13-a08c-81a1d4ac368d",
   "metadata": {},
   "outputs": [
    {
     "name": "stdout",
     "output_type": "stream",
     "text": [
      "Wierzchołki w kolejności wywoływania: [0, 4, 3, 2, 0, 4, 2, 3], wagi na końcu: [0, -2, 1, 1, 0], count: 8\n"
     ]
    }
   ],
   "source": [
    "wagi_lista = [-1,1,0,0,-1]\n",
    "G = T_pqr(2,2,3)\n",
    "omijanie_ujemnych(G, wagi_lista,1)"
   ]
  },
  {
   "cell_type": "code",
   "execution_count": null,
   "id": "1925c0ab-03cc-45c3-b024-ad72c7b75733",
   "metadata": {},
   "outputs": [],
   "source": []
  }
 ],
 "metadata": {
  "kernelspec": {
   "display_name": "Python 3 (ipykernel)",
   "language": "python",
   "name": "python3"
  },
  "language_info": {
   "codemirror_mode": {
    "name": "ipython",
    "version": 3
   },
   "file_extension": ".py",
   "mimetype": "text/x-python",
   "name": "python",
   "nbconvert_exporter": "python",
   "pygments_lexer": "ipython3",
   "version": "3.9.13"
  }
 },
 "nbformat": 4,
 "nbformat_minor": 5
}
