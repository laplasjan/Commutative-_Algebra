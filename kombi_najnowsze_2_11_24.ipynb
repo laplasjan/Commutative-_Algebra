{
 "cells": [
  {
   "cell_type": "code",
   "execution_count": 1,
   "id": "dd904401-2729-4f67-935b-c6f50b2d0425",
   "metadata": {},
   "outputs": [],
   "source": [
    "import itertools as it\n",
    "import numpy as np\n",
    "import networkx as nx\n",
    "import matplotlib.pyplot as plt\n",
    "import copy"
   ]
  },
  {
   "cell_type": "code",
   "execution_count": 2,
   "id": "35f7c0fb",
   "metadata": {},
   "outputs": [],
   "source": [
    "def T_pqr(p,q,r):\n",
    "    G = nx.Graph()\n",
    "    if p> 1 and q>1 and r >1:\n",
    "        for i in range(p+q+r-2):\n",
    "            G.add_node(i, waga=i)\n",
    "        for i in range (0, p-1):\n",
    "            G.add_edge(i,i+1)\n",
    "        for i in range (p,p+q-2):\n",
    "            G.add_edge(i,i+1)\n",
    "            G.add_edge(0,p)\n",
    "        for i in range(p+q-1,p+q+r-3):\n",
    "            G.add_edge(i,i+1)\n",
    "            G.add_edge(0,p+q-1)\n",
    "    if p == 1 or q ==1 or r == 1:\n",
    "        for i in range(p+q+r-2):\n",
    "            G.add_node(i, waga=i)\n",
    "        for i in range (0, p+q+r-3):\n",
    "            G.add_edge(i,i+1)\n",
    "    if p == 2:\n",
    "        for i in range(0,p+q+r-2):\n",
    "            G.add_node(i, waga=i)\n",
    "        for i in range (0, 1):\n",
    "            G.add_edge(i,i+1)\n",
    "        for i in range (2,q):\n",
    "            G.add_edge(i,i+1)\n",
    "            G.add_edge(0,2)\n",
    "        for i in range(q+1,q+r-1):\n",
    "            G.add_edge(i,i+1)\n",
    "            G.add_edge(0,q+1)\n",
    "    if q ==2 :\n",
    "        for i in range(0,p+q+r-2):\n",
    "            G.add_node(i, waga=i)\n",
    "        for i in range (0, p-1):\n",
    "            G.add_edge(i,i+1)\n",
    "            G.add_edge(0,p)\n",
    "        for i in range(p+2,p+q+r-3):\n",
    "            G.add_edge(i,i+1)\n",
    "            G.add_edge(0,p+2)\n",
    "    if r == 2:\n",
    "        for i in range(0,p+q+r-2):\n",
    "            G.add_node(i, waga=i)\n",
    "        for i in range (0, p-1):\n",
    "            G.add_edge(i,i+1)\n",
    "        for i in range (p,p+q-2):\n",
    "            G.add_edge(i,i+1)\n",
    "            G.add_edge(0,p)\n",
    "        G.add_edge(0,p+q-1)\n",
    "    return G"
   ]
  },
  {
   "cell_type": "code",
   "execution_count": 3,
   "id": "3d010801-5de1-42a2-890d-b44d843f190d",
   "metadata": {},
   "outputs": [],
   "source": [
    "def symetryczna(A, k):\n",
    "    \n",
    "    max_len = max(len(sublist) for sublist in A)\n",
    "    zewn = []\n",
    "    \n",
    "    for kombinacja in it.combinations_with_replacement(range(len(A)), k):\n",
    "        summed_sublist = []\n",
    "        for j in range(max_len):\n",
    "            sublist_sum = sum(A[i][j] if j < len(A[i]) else 0 for i in kombinacja)\n",
    "            summed_sublist.append(sublist_sum)\n",
    "        zewn.append(summed_sublist)\n",
    "    return zewn"
   ]
  },
  {
   "cell_type": "code",
   "execution_count": 4,
   "id": "080fdd2d",
   "metadata": {},
   "outputs": [],
   "source": [
    "def zewnetrzna(A, k):\n",
    "    \n",
    "    max_len = max(len(sublist) for sublist in A)\n",
    "    zewn = []\n",
    "    \n",
    "    for kombinacja in it.combinations(range(len(A)), k):\n",
    "        summed_sublist = []\n",
    "        for j in range(max_len):\n",
    "            sublist_sum = sum(A[i][j] if j < len(A[i]) else 0 for i in kombinacja)\n",
    "            summed_sublist.append(sublist_sum)\n",
    "        zewn.append(summed_sublist)\n",
    "    return zewn"
   ]
  },
  {
   "cell_type": "code",
   "execution_count": 5,
   "id": "66977750-cca3-4b45-af8b-3bc8ad8bf343",
   "metadata": {},
   "outputs": [],
   "source": [
    "#liczy zewenętrznąale numeruje poszczególne linijki outputu. Dla testów\n",
    "# czy liczy odpowiednio\n",
    "def zewnetrzna_num(A, k):\n",
    "    \n",
    "    max_len = max(len(sublist) for sublist in A)\n",
    "    zewn = []\n",
    "    \n",
    "    for kombinacja in it.combinations(range(len(A)), k):\n",
    "        summed_sublist = []\n",
    "        for j in range(max_len):\n",
    "            sublist_sum = sum(A[i][j] if j < len(A[i]) else 0 for i in kombinacja)\n",
    "            summed_sublist.append(sublist_sum)\n",
    "        zewn.append(summed_sublist)\n",
    "    for idx, wynik in enumerate(zewn, 1):\n",
    "        print(f\"{idx} : {wynik}\")"
   ]
  },
  {
   "cell_type": "code",
   "execution_count": 6,
   "id": "62f36f6d-30d6-4b2c-b9b0-bf0b8205d586",
   "metadata": {},
   "outputs": [],
   "source": [
    "D3= T_pqr(2,2,1)\n",
    "D5= T_pqr(3,2,2)"
   ]
  },
  {
   "cell_type": "code",
   "execution_count": 7,
   "id": "b2e30f54-deeb-4759-ac0b-a267ab833d3b",
   "metadata": {},
   "outputs": [
    {
     "data": {
      "image/png": "[encoded data removed]",
      "text/plain": [
       "<Figure size 640x480 with 1 Axes>"
      ]
     },
     "metadata": {},
     "output_type": "display_data"
    }
   ],
   "source": [
    "nx.draw(D5, with_labels=True, node_size=500, node_color='lightblue', font_weight='bold')\n",
    "plt.show()"
   ]
  },
  {
   "cell_type": "code",
   "execution_count": 8,
   "id": "928692de-e60c-4e2f-bf8b-0e65f7ec169f",
   "metadata": {},
   "outputs": [],
   "source": [
    "waga = tuple([[0,0,0,0,1],[1,0,0,0,-1],[-1,1,0,1,0],[0,1,0,-1,0],\n",
    "            [0,-1,1,1,0],[1,-1,1,-1,0],[0,0,-1,1,0],\n",
    "            [-1,0,1,0,1],[1,0,-1,-1,0],[0,0,0,-1,0],[-1,0,0,1,0],[1,-1,0,0,-1],\n",
    "           [0,-1,0,0,1],[0,1,-1,0,-1],[0,0,1,0,-1], [-1,1,-1,0,1]])"
   ]
  },
  {
   "cell_type": "markdown",
   "id": "e2dc790d-6f6a-4fa7-a5d7-37d316539bdf",
   "metadata": {
    "tags": []
   },
   "source": [
    "# Tak było w grafach -> zastosowanie operacji ro dla pojedynczej wagi dopóki są ujemne wierzchołki"
   ]
  },
  {
   "cell_type": "code",
   "execution_count": 9,
   "id": "42ad2a7d-61e5-45b9-a12a-0176dba42ef1",
   "metadata": {},
   "outputs": [],
   "source": [
    "def nadawanie_wag_1(G, wagi_lista):\n",
    "    wagi = []\n",
    "    for idx, (node, weight) in enumerate(zip(G.nodes, wagi_lista)):\n",
    "        G.nodes[node]['weight'] = weight\n",
    "    for _, w in G.nodes(data='weight'):\n",
    "        wagi.append(w)\n",
    "    return wagi"
   ]
  },
  {
   "cell_type": "code",
   "execution_count": 10,
   "id": "56d00082-6e4f-43db-9e9e-f4c8411c9092",
   "metadata": {},
   "outputs": [],
   "source": [
    "def odbicie(G, node, wagi):\n",
    "    #jeśli chcesz sprawdzić, czy odbicie działa oraz chcesz mieć wypisane wagi, komenda poniżej to umożliwia:\n",
    "    #print(nadawanie_wag(G, wagi_lista))\n",
    "    \n",
    "    wagi = [] \n",
    "    \n",
    "    neighbors = list(G.neighbors(node))\n",
    "    \n",
    "    nowa_waga1 = - G.nodes[node]['weight']\n",
    "    G.nodes[node]['weight'] = nowa_waga1\n",
    "    \n",
    "    for neighbor in neighbors:\n",
    "        nowa_waga = G.nodes[neighbor]['weight'] -  G.nodes[node]['weight']\n",
    "        G.nodes[neighbor]['weight'] = nowa_waga\n",
    "    for _, w in G.nodes(data='weight'):\n",
    "        wagi.append(w)\n",
    "    return wagi"
   ]
  },
  {
   "cell_type": "code",
   "execution_count": 11,
   "id": "07a01f42-87d2-4efb-8186-0808b65ce822",
   "metadata": {},
   "outputs": [],
   "source": [
    "def ro_1(G, wagi):    \n",
    "    wagi = []\n",
    "    for node in G.nodes():\n",
    "        G.nodes[node]['weight'] -= 1\n",
    "        wagi.append( G.nodes[node]['weight'])\n",
    "    return wagi"
   ]
  },
  {
   "cell_type": "code",
   "execution_count": 12,
   "id": "7ffeba11-5c6b-4000-97d9-bf018da14927",
   "metadata": {},
   "outputs": [],
   "source": [
    "def ro_2(G, wagi):    \n",
    "    wagi = []\n",
    "    for node in G.nodes():\n",
    "        G.nodes[node]['weight'] += 1\n",
    "        wagi.append( G.nodes[node]['weight'])\n",
    "    return wagi"
   ]
  },
  {
   "cell_type": "code",
   "execution_count": 13,
   "id": "0b909e2a-9494-4ac0-86e3-bd9430841e3b",
   "metadata": {},
   "outputs": [],
   "source": [
    "def zmiana_na_dodatnie_obl_ro_printujacy(G, wagi_lista):\n",
    "    def pozytywne(G):\n",
    "        for node, data in G.nodes(data=True):\n",
    "            if data['weight'] is not None and data['weight'] < 0:\n",
    "                return False\n",
    "        return True\n",
    "\n",
    "    count = 0\n",
    "    nodes_z_odbiciem = []\n",
    "    wagi = []\n",
    "    \n",
    "    nadawanie_wag(G, wagi_lista)\n",
    "\n",
    "    while count < 10000:\n",
    "        nodes_ujemne = [node for node, data in G.nodes(data=True) if isinstance(data.get('weight'), (int, float)) and data['weight'] < 0]\n",
    "\n",
    "        for node in nodes_ujemne:\n",
    "            wynik = ro_1(G, wagi_lista)\n",
    "            print(f\"1: {wynik}\")\n",
    "            wynik2 = odbicie(G, node, wynik)\n",
    "            print(f\"2: {wynik2}\")\n",
    "            wynik3 = ro_2(G, wynik2)\n",
    "            print(f\"3: {wynik3}\")\n",
    "            nodes_z_odbiciem.append(node)\n",
    "\n",
    "        count += 1\n",
    "\n",
    "        if pozytywne(G):\n",
    "            break\n",
    "            \n",
    "    for _, w in G.nodes(data='weight'):\n",
    "        wagi.append(w) \n",
    "        \n",
    "\n",
    "    print(f\"Wierzchołki w kolejności wywoływania:  {nodes_z_odbiciem}, wagi na końcu po ro_2 : {wagi}, count= {count}\")"
   ]
  },
  {
   "cell_type": "code",
   "execution_count": 14,
   "id": "69198dca-ec07-467c-8f9f-b6bd01b48317",
   "metadata": {},
   "outputs": [],
   "source": [
    "def zmiana_na_dodatnie_obl_ro(G, wagi_lista):\n",
    "    def pozytywne(G):\n",
    "        for node, data in G.nodes(data=True):\n",
    "            if data['weight'] is not None and data['weight'] < 0:\n",
    "                return False\n",
    "        return True\n",
    "\n",
    "    count = 0\n",
    "    nodes_z_odbiciem = []\n",
    "    wagi = []\n",
    "    \n",
    "    nadawanie_wag_1(G, wagi_lista)\n",
    "\n",
    "    while count < 10000:\n",
    "        nodes_ujemne = [node for node, data in G.nodes(data=True) if isinstance(data.get('weight'), (int, float)) and data['weight'] < 0]\n",
    "\n",
    "        for node in nodes_ujemne:\n",
    "            wynik = ro_1(G, wagi_lista)\n",
    "            wynik2 = odbicie(G, node, wynik)\n",
    "            wynik3 = ro_2(G, wynik2)\n",
    "            nodes_z_odbiciem.append(node)\n",
    "\n",
    "            count += 1\n",
    "\n",
    "        if pozytywne(G):\n",
    "            break\n",
    "            \n",
    "    for _, w in G.nodes(data='weight'):\n",
    "        wagi.append(w) \n",
    "        \n",
    "\n",
    "    return( nodes_z_odbiciem, wagi, count)"
   ]
  },
  {
   "cell_type": "code",
   "execution_count": 15,
   "id": "27f73ce2-9cbf-470f-b922-75fc9d39a803",
   "metadata": {},
   "outputs": [
    {
     "data": {
      "text/plain": [
       "([1, 0, 2, 1, 3, 4, 0, 1, 3, 4, 0, 2, 1], [1, 6, 0, 0, 0], 13)"
      ]
     },
     "execution_count": 15,
     "metadata": {},
     "output_type": "execute_result"
    }
   ],
   "source": [
    "zmiana_na_dodatnie_obl_ro(D5, [1,-1,0,0,0])"
   ]
  },
  {
   "cell_type": "markdown",
   "id": "3404f0a4-284b-46fb-ba58-0108f9f796db",
   "metadata": {},
   "source": [
    "# Równoleglenie"
   ]
  },
  {
   "cell_type": "code",
   "execution_count": 16,
   "id": "5df011e9-3cae-4455-bd80-b7350584e0c2",
   "metadata": {},
   "outputs": [],
   "source": [
    "def nadawanie_wag(graph, n, wagi):\n",
    "    for i, node in enumerate(graph.nodes()):\n",
    "        graph.nodes[node]['weight'] = wagi[i]"
   ]
  },
  {
   "cell_type": "code",
   "execution_count": 17,
   "id": "1ea3f00a-59ca-4174-ac8e-c3371284edfe",
   "metadata": {},
   "outputs": [],
   "source": [
    "def rownolegle(graph, n, wagi_macierz):\n",
    "    graphs = [graph.copy() for _ in range(n)]\n",
    "    \n",
    "    def pozytywne(G):\n",
    "        for node, data in G.nodes(data=True):\n",
    "            if data['weight'] is not None and data['weight'] < 0:\n",
    "                return False\n",
    "        return True\n",
    "\n",
    "    def is_the_same(wagi1, wagi2):\n",
    "        return all(all(a == b for a, b in zip(sublist1, sublist2)) for sublist1, sublist2 in zip(wagi1, wagi2))\n",
    "    nadawanie_wag(graph,n, wagi_macierz)\n",
    "    for i in range(n):\n",
    "        for G, waga in zip(graphs, wagi_macierz[i]):\n",
    "            return(zmiana_na_dodatnie_obl_ro(G, waga))"
   ]
  },
  {
   "cell_type": "code",
   "execution_count": 18,
   "id": "afc87b8c-3c19-455c-b6af-006bcf3b928e",
   "metadata": {},
   "outputs": [],
   "source": [
    "def rownolegle(graph, n, wagi_macierz):\n",
    "    graphs = [graph.copy() for _ in range(n)]\n",
    "    \n",
    "    results = []\n",
    "    for G, wagi_lista in zip(graphs, wagi_macierz):\n",
    "        nadawanie_wag(G, n, wagi_lista)\n",
    "        \n",
    "        nodes_z_odbiciem, final_weights, count = zmiana_na_dodatnie_obl_ro(G, wagi_lista)\n",
    "        \n",
    "        results.append((nodes_z_odbiciem, final_weights, count))\n",
    "    \n",
    "    for idx, (nodes, weights, count) in enumerate(results):\n",
    "        print(f\"Graph {idx}: Wierzchołki w kolejności wywoływania: {nodes}, wagi na końcu: {weights}, count= {count}\")\n",
    "    \n",
    "    return results"
   ]
  },
  {
   "cell_type": "code",
   "execution_count": 19,
   "id": "b7ad64e5-a98d-4280-83b8-a6f19aa28681",
   "metadata": {},
   "outputs": [
    {
     "name": "stdout",
     "output_type": "stream",
     "text": [
      "Graph 0: Wierzchołki w kolejności wywoływania: [], wagi na końcu: [0, 0, 0, 0, 1], count= 0\n",
      "Graph 1: Wierzchołki w kolejności wywoływania: [4, 0, 1, 3, 0, 2, 1, 4, 0, 3], wagi na końcu: [0, 1, 0, 7, 0], count= 10\n",
      "Graph 2: Wierzchołki w kolejności wywoływania: [0, 1, 3, 4, 0, 2, 1, 3, 4, 0, 2, 1, 3, 4, 0], wagi na końcu: [5, 0, 1, 0, 1], count= 15\n",
      "Graph 3: Wierzchołki w kolejności wywoływania: [3, 0, 1, 4, 0, 2, 1, 3, 0, 4], wagi na końcu: [1, 0, 0, 0, 7], count= 10\n",
      "Graph 4: Wierzchołki w kolejności wywoływania: [1, 0, 2, 1, 3, 4, 0, 1, 3, 4, 0, 2, 1], wagi na końcu: [0, 6, 1, 1, 0], count= 13\n",
      "Graph 5: Wierzchołki w kolejności wywoływania: [1, 3, 0, 2, 1, 3, 4, 0, 2, 1, 3, 4, 0, 2, 1, 4], wagi na końcu: [0, 4, 1, 1, 4], count= 16\n",
      "Graph 6: Wierzchołki w kolejności wywoływania: [2, 1, 0, 3, 4, 0, 1, 2], wagi na końcu: [0, 0, 8, 0, 1], count= 8\n",
      "Graph 7: Wierzchołki w kolejności wywoływania: [0, 1, 3, 4, 0, 2, 1, 3, 4, 0, 2, 1, 3, 4, 0], wagi na końcu: [5, 1, 0, 1, 0], count= 15\n",
      "Graph 8: Wierzchołki w kolejności wywoływania: [2, 3, 0, 1, 0, 2, 4, 0, 3, 0, 1, 0, 2, 4], wagi na końcu: [1, 0, 5, 0, 5], count= 14\n",
      "Graph 9: Wierzchołki w kolejności wywoływania: [3, 0, 1, 4, 0, 2, 1, 3, 0, 4], wagi na końcu: [0, 0, 0, 0, 9], count= 10\n",
      "Graph 10: Wierzchołki w kolejności wywoływania: [0, 1, 3, 4, 0, 2, 1, 3, 4, 0, 2, 1, 3, 4, 0], wagi na końcu: [6, 0, 0, 0, 1], count= 15\n",
      "Graph 11: Wierzchołki w kolejności wywoływania: [1, 4, 0, 2, 1, 3, 4, 0, 2, 1, 3, 4, 0, 2, 1, 3], wagi na końcu: [0, 5, 0, 4, 1], count= 16\n",
      "Graph 12: Wierzchołki w kolejności wywoływania: [1, 0, 2, 1, 3, 4, 0, 1, 3, 4, 0, 2, 1], wagi na końcu: [0, 7, 0, 0, 1], count= 13\n",
      "Graph 13: Wierzchołki w kolejności wywoływania: [2, 4, 0, 1, 0, 2, 3, 0, 4, 0, 1, 0, 2, 3], wagi na końcu: [0, 0, 5, 6, 1], count= 14\n",
      "Graph 14: Wierzchołki w kolejności wywoływania: [4, 0, 1, 3, 0, 2, 1, 4, 0, 3], wagi na końcu: [0, 0, 0, 8, 1], count= 10\n",
      "Graph 15: Wierzchołki w kolejności wywoływania: [0, 2, 1, 3, 4, 0, 2, 1, 3, 4, 0, 2, 1, 3, 4, 0, 2], wagi na końcu: [4, 1, 3, 1, 0], count= 17\n"
     ]
    },
    {
     "data": {
      "text/plain": [
       "[([], [0, 0, 0, 0, 1], 0),\n",
       " ([4, 0, 1, 3, 0, 2, 1, 4, 0, 3], [0, 1, 0, 7, 0], 10),\n",
       " ([0, 1, 3, 4, 0, 2, 1, 3, 4, 0, 2, 1, 3, 4, 0], [5, 0, 1, 0, 1], 15),\n",
       " ([3, 0, 1, 4, 0, 2, 1, 3, 0, 4], [1, 0, 0, 0, 7], 10),\n",
       " ([1, 0, 2, 1, 3, 4, 0, 1, 3, 4, 0, 2, 1], [0, 6, 1, 1, 0], 13),\n",
       " ([1, 3, 0, 2, 1, 3, 4, 0, 2, 1, 3, 4, 0, 2, 1, 4], [0, 4, 1, 1, 4], 16),\n",
       " ([2, 1, 0, 3, 4, 0, 1, 2], [0, 0, 8, 0, 1], 8),\n",
       " ([0, 1, 3, 4, 0, 2, 1, 3, 4, 0, 2, 1, 3, 4, 0], [5, 1, 0, 1, 0], 15),\n",
       " ([2, 3, 0, 1, 0, 2, 4, 0, 3, 0, 1, 0, 2, 4], [1, 0, 5, 0, 5], 14),\n",
       " ([3, 0, 1, 4, 0, 2, 1, 3, 0, 4], [0, 0, 0, 0, 9], 10),\n",
       " ([0, 1, 3, 4, 0, 2, 1, 3, 4, 0, 2, 1, 3, 4, 0], [6, 0, 0, 0, 1], 15),\n",
       " ([1, 4, 0, 2, 1, 3, 4, 0, 2, 1, 3, 4, 0, 2, 1, 3], [0, 5, 0, 4, 1], 16),\n",
       " ([1, 0, 2, 1, 3, 4, 0, 1, 3, 4, 0, 2, 1], [0, 7, 0, 0, 1], 13),\n",
       " ([2, 4, 0, 1, 0, 2, 3, 0, 4, 0, 1, 0, 2, 3], [0, 0, 5, 6, 1], 14),\n",
       " ([4, 0, 1, 3, 0, 2, 1, 4, 0, 3], [0, 0, 0, 8, 1], 10),\n",
       " ([0, 2, 1, 3, 4, 0, 2, 1, 3, 4, 0, 2, 1, 3, 4, 0, 2], [4, 1, 3, 1, 0], 17)]"
      ]
     },
     "execution_count": 19,
     "metadata": {},
     "output_type": "execute_result"
    }
   ],
   "source": [
    "rownolegle(D5, 16, waga)"
   ]
  },
  {
   "cell_type": "code",
   "execution_count": 22,
   "id": "fc024dae-0360-402c-9632-a444c4057a57",
   "metadata": {},
   "outputs": [
    {
     "name": "stdout",
     "output_type": "stream",
     "text": [
      "Start iteracji - wynikx: [[0, 0, 0, 0, 1], [1, 0, 0, 0, -1], [-1, 1, 0, 1, 0], [0, 1, 0, -1, 0], [0, -1, 1, 1, 0], [1, -1, 1, -1, 0]]\n",
      "Po ro_1: [[1, 1, 1, 1, 2], [2, 1, 1, 1, 0], [0, 2, 1, 2, 1], [1, 2, 1, 0, 1], [1, 0, 2, 2, 1], [2, 0, 2, 0, 1]]\n",
      "Po odbicia_do_ro: [[0, -1, 0, 1, 2], [1, -1, 0, 1, 0], [-2, -2, -1, 2, 1], [-1, -2, -1, 0, 1], [1, 0, 2, 2, 1], [2, 0, 2, 0, 1]]\n",
      "Po ro_2: [[-1, -2, -1, 0, 1], [0, -2, -1, 0, -1], [-3, -3, -2, 1, 0], [-2, -3, -2, -1, 0], [0, -1, 1, 1, 0], [1, -1, 1, -1, 0]]\n",
      "Dodano do waga_po_final: [[[-1, -2, -1, 0, 1], [0, -2, -1, 0, -1], [-3, -3, -2, 1, 0], [-2, -3, -2, -1, 0], [0, -1, 1, 1, 0], [1, -1, 1, -1, 0]]]\n",
      "Nowe wynikx: [[-1, -2, -1, 0, 1], [0, -2, -1, 0, -1], [-3, -3, -2, 1, 0], [-2, -3, -2, -1, 0], [0, -1, 1, 1, 0], [1, -1, 1, -1, 0]]\n",
      "Po ro_1: [[0, -1, 0, 1, 2], [1, -1, 0, 1, 0], [-2, -2, -1, 2, 1], [-1, -2, -1, 0, 1], [1, 0, 2, 2, 1], [2, 0, 2, 0, 1]]\n",
      "Po odbicia_do_ro: [[1, 1, 1, 1, 2], [2, 1, 1, 1, 0], [0, 2, 1, 2, 1], [1, 2, 1, 0, 1], [1, 0, 2, 2, 1], [2, 0, 2, 0, 1]]\n",
      "Po ro_2: [[0, 0, 0, 0, 1], [1, 0, 0, 0, -1], [-1, 1, 0, 1, 0], [0, 1, 0, -1, 0], [0, -1, 1, 1, 0], [1, -1, 1, -1, 0]]\n",
      "Dodano do waga_po_final: [[[-1, -2, -1, 0, 1], [0, -2, -1, 0, -1], [-3, -3, -2, 1, 0], [-2, -3, -2, -1, 0], [0, -1, 1, 1, 0], [1, -1, 1, -1, 0]], [[0, 0, 0, 0, 1], [1, 0, 0, 0, -1], [-1, 1, 0, 1, 0], [0, 1, 0, -1, 0], [0, -1, 1, 1, 0], [1, -1, 1, -1, 0]]]\n",
      "Dodano do sprawdzone_wagi: [[[0, 0, 0, 0, 1], [1, 0, 0, 0, -1], [-1, 1, 0, 1, 0], [0, 1, 0, -1, 0], [0, -1, 1, 1, 0], [1, -1, 1, -1, 0]]]\n",
      "Nowe wynikx: [[0, 0, 0, 0, 1], [1, 0, 0, 0, -1], [-1, 1, 0, 1, 0], [0, 1, 0, -1, 0], [0, -1, 1, 1, 0], [1, -1, 1, -1, 0]]\n",
      "Po ro_1: [[1, 1, 1, 1, 2], [2, 1, 1, 1, 0], [0, 2, 1, 2, 1], [1, 2, 1, 0, 1], [1, 0, 2, 2, 1], [2, 0, 2, 0, 1]]\n",
      "Po odbicia_do_ro: [[0, -1, 0, 1, 2], [1, -1, 0, 1, 0], [-2, -2, -1, 2, 1], [-1, -2, -1, 0, 1], [1, 0, 2, 2, 1], [2, 0, 2, 0, 1]]\n",
      "Po ro_2: [[-1, -2, -1, 0, 1], [0, -2, -1, 0, -1], [-3, -3, -2, 1, 0], [-2, -3, -2, -1, 0], [0, -1, 1, 1, 0], [1, -1, 1, -1, 0]]\n",
      "Dodano do waga_po_final: [[[-1, -2, -1, 0, 1], [0, -2, -1, 0, -1], [-3, -3, -2, 1, 0], [-2, -3, -2, -1, 0], [0, -1, 1, 1, 0], [1, -1, 1, -1, 0]], [[0, 0, 0, 0, 1], [1, 0, 0, 0, -1], [-1, 1, 0, 1, 0], [0, 1, 0, -1, 0], [0, -1, 1, 1, 0], [1, -1, 1, -1, 0]], [[-1, -2, -1, 0, 1], [0, -2, -1, 0, -1], [-3, -3, -2, 1, 0], [-2, -3, -2, -1, 0], [0, -1, 1, 1, 0], [1, -1, 1, -1, 0]]]\n",
      "Nowe wynikx: [[-1, -2, -1, 0, 1], [0, -2, -1, 0, -1], [-3, -3, -2, 1, 0], [-2, -3, -2, -1, 0], [0, -1, 1, 1, 0], [1, -1, 1, -1, 0]]\n",
      "Po ro_1: [[0, -1, 0, 1, 2], [1, -1, 0, 1, 0], [-2, -2, -1, 2, 1], [-1, -2, -1, 0, 1], [1, 0, 2, 2, 1], [2, 0, 2, 0, 1]]\n",
      "Po odbicia_do_ro: [[1, 1, 1, 1, 2], [2, 1, 1, 1, 0], [0, 2, 1, 2, 1], [1, 2, 1, 0, 1], [1, 0, 2, 2, 1], [2, 0, 2, 0, 1]]\n",
      "Po ro_2: [[0, 0, 0, 0, 1], [1, 0, 0, 0, -1], [-1, 1, 0, 1, 0], [0, 1, 0, -1, 0], [0, -1, 1, 1, 0], [1, -1, 1, -1, 0]]\n",
      "Dodano do waga_po_final: [[[-1, -2, -1, 0, 1], [0, -2, -1, 0, -1], [-3, -3, -2, 1, 0], [-2, -3, -2, -1, 0], [0, -1, 1, 1, 0], [1, -1, 1, -1, 0]], [[0, 0, 0, 0, 1], [1, 0, 0, 0, -1], [-1, 1, 0, 1, 0], [0, 1, 0, -1, 0], [0, -1, 1, 1, 0], [1, -1, 1, -1, 0]], [[-1, -2, -1, 0, 1], [0, -2, -1, 0, -1], [-3, -3, -2, 1, 0], [-2, -3, -2, -1, 0], [0, -1, 1, 1, 0], [1, -1, 1, -1, 0]], [[0, 0, 0, 0, 1], [1, 0, 0, 0, -1], [-1, 1, 0, 1, 0], [0, 1, 0, -1, 0], [0, -1, 1, 1, 0], [1, -1, 1, -1, 0]]]\n",
      "Nowe wynikx: [[0, 0, 0, 0, 1], [1, 0, 0, 0, -1], [-1, 1, 0, 1, 0], [0, 1, 0, -1, 0], [0, -1, 1, 1, 0], [1, -1, 1, -1, 0]]\n",
      "Po ro_1: [[1, 1, 1, 1, 2], [2, 1, 1, 1, 0], [0, 2, 1, 2, 1], [1, 2, 1, 0, 1], [1, 0, 2, 2, 1], [2, 0, 2, 0, 1]]\n",
      "Po odbicia_do_ro: [[0, -1, 0, 1, 2], [1, -1, 0, 1, 0], [-2, -2, -1, 2, 1], [-1, -2, -1, 0, 1], [1, 0, 2, 2, 1], [2, 0, 2, 0, 1]]\n",
      "Po ro_2: [[-1, -2, -1, 0, 1], [0, -2, -1, 0, -1], [-3, -3, -2, 1, 0], [-2, -3, -2, -1, 0], [0, -1, 1, 1, 0], [1, -1, 1, -1, 0]]\n",
      "Dodano do waga_po_final: [[[-1, -2, -1, 0, 1], [0, -2, -1, 0, -1], [-3, -3, -2, 1, 0], [-2, -3, -2, -1, 0], [0, -1, 1, 1, 0], [1, -1, 1, -1, 0]], [[0, 0, 0, 0, 1], [1, 0, 0, 0, -1], [-1, 1, 0, 1, 0], [0, 1, 0, -1, 0], [0, -1, 1, 1, 0], [1, -1, 1, -1, 0]], [[-1, -2, -1, 0, 1], [0, -2, -1, 0, -1], [-3, -3, -2, 1, 0], [-2, -3, -2, -1, 0], [0, -1, 1, 1, 0], [1, -1, 1, -1, 0]], [[0, 0, 0, 0, 1], [1, 0, 0, 0, -1], [-1, 1, 0, 1, 0], [0, 1, 0, -1, 0], [0, -1, 1, 1, 0], [1, -1, 1, -1, 0]], [[-1, -2, -1, 0, 1], [0, -2, -1, 0, -1], [-3, -3, -2, 1, 0], [-2, -3, -2, -1, 0], [0, -1, 1, 1, 0], [1, -1, 1, -1, 0]]]\n",
      "Nowe wynikx: [[-1, -2, -1, 0, 1], [0, -2, -1, 0, -1], [-3, -3, -2, 1, 0], [-2, -3, -2, -1, 0], [0, -1, 1, 1, 0], [1, -1, 1, -1, 0]]\n",
      "Po ro_1: [[0, -1, 0, 1, 2], [1, -1, 0, 1, 0], [-2, -2, -1, 2, 1], [-1, -2, -1, 0, 1], [1, 0, 2, 2, 1], [2, 0, 2, 0, 1]]\n",
      "Po odbicia_do_ro: [[1, 1, 1, 1, 2], [2, 1, 1, 1, 0], [0, 2, 1, 2, 1], [1, 2, 1, 0, 1], [1, 0, 2, 2, 1], [2, 0, 2, 0, 1]]\n",
      "Po ro_2: [[0, 0, 0, 0, 1], [1, 0, 0, 0, -1], [-1, 1, 0, 1, 0], [0, 1, 0, -1, 0], [0, -1, 1, 1, 0], [1, -1, 1, -1, 0]]\n",
      "Dodano do waga_po_final: [[[-1, -2, -1, 0, 1], [0, -2, -1, 0, -1], [-3, -3, -2, 1, 0], [-2, -3, -2, -1, 0], [0, -1, 1, 1, 0], [1, -1, 1, -1, 0]], [[0, 0, 0, 0, 1], [1, 0, 0, 0, -1], [-1, 1, 0, 1, 0], [0, 1, 0, -1, 0], [0, -1, 1, 1, 0], [1, -1, 1, -1, 0]], [[-1, -2, -1, 0, 1], [0, -2, -1, 0, -1], [-3, -3, -2, 1, 0], [-2, -3, -2, -1, 0], [0, -1, 1, 1, 0], [1, -1, 1, -1, 0]], [[0, 0, 0, 0, 1], [1, 0, 0, 0, -1], [-1, 1, 0, 1, 0], [0, 1, 0, -1, 0], [0, -1, 1, 1, 0], [1, -1, 1, -1, 0]], [[-1, -2, -1, 0, 1], [0, -2, -1, 0, -1], [-3, -3, -2, 1, 0], [-2, -3, -2, -1, 0], [0, -1, 1, 1, 0], [1, -1, 1, -1, 0]], [[0, 0, 0, 0, 1], [1, 0, 0, 0, -1], [-1, 1, 0, 1, 0], [0, 1, 0, -1, 0], [0, -1, 1, 1, 0], [1, -1, 1, -1, 0]]]\n",
      "Nowe wynikx: [[0, 0, 0, 0, 1], [1, 0, 0, 0, -1], [-1, 1, 0, 1, 0], [0, 1, 0, -1, 0], [0, -1, 1, 1, 0], [1, -1, 1, -1, 0]]\n",
      "Znaleziono wagi dodatnie: [[0, 0, 0, 0, 1], [1, 0, 0, 0, -1], [-1, 1, 0, 1, 0], [0, 1, 0, -1, 0], [0, -1, 1, 1, 0], [1, -1, 1, -1, 0]]\n",
      "Ostateczne wagi: [0, 0, 0, 0, 1]\n"
     ]
    }
   ],
   "source": [
    "odbicia_w_1_printujacy(D5, 6, ([0,0,0,0,1],[1,0,0,0,-1],[-1,1,0,1,0],[0,1,0,-1,0],\n",
    "            [0,-1,1,1,0],[1,-1,1,-1,0]))"
   ]
  },
  {
   "cell_type": "code",
   "execution_count": 23,
   "id": "f13743f5-76df-4b85-b493-89b56d78fea2",
   "metadata": {},
   "outputs": [],
   "source": [
    "### ten program ma taką samą logikę, ale wyrzuca tylko output\n",
    "def odbicia_w_1(graph, n, wagi_macierz):\n",
    "    graphs = [graph.copy() for _ in range(n)]\n",
    "    waga_dodatnia = []\n",
    "    waga_po_final = []\n",
    "    sprawdzone_wagi = []\n",
    "    wagi_macierz = [list(wagi) for wagi in wagi_macierz]\n",
    "\n",
    "    def contains_negative(waga_list):\n",
    "        return any(any(weight < 0 for weight in podlista) for podlista in waga_list)\n",
    "\n",
    "    def contains_positive(waga_list):\n",
    "        return any(all(weight >= 0 for weight in podlista) for podlista in waga_list)\n",
    "\n",
    "    def contains_positive_1(waga_list):\n",
    "        for podlista in waga_list:\n",
    "            if all(weight >= 0 for weight in podlista):\n",
    "                return podlista\n",
    "                \n",
    "    def is_the_same(wagi1, wagi2):\n",
    "        if all(all(a == b for a, b in zip(sublist1, sublist2)) for sublist1, sublist2 in zip(wagi1, wagi2)):\n",
    "            return True\n",
    "        \n",
    "    for G, wagi in zip(graphs, wagi_macierz):\n",
    "        nadawanie_wag(G, n, wagi_macierz)\n",
    "\n",
    "    while contains_negative(wagi_macierz):\n",
    "        wagi_zaktualizowane = False \n",
    "\n",
    "        sorted_nodes = sorted(G.nodes(data=True), key=lambda x: x[1][\"weight\"], reverse=True)\n",
    "        node = sorted_nodes[0][0]\n",
    "\n",
    "        for i in range(n):\n",
    "            if wagi[node] != 0:\n",
    "                wynik = ro_1(graph, n, wagi_macierz)\n",
    "                wynik2 = odbicia_do_ro(graph, n, node, wynik)\n",
    "                wynik3 = ro_2(graph, n, wynik2)\n",
    "\n",
    "                if not is_the_same(wagi_macierz, wynik3):\n",
    "                    waga_po_final.append(wynik3)\n",
    "                    wagi_zaktualizowane = True \n",
    "                    \n",
    "                if contains_positive_1(wynik3) and (is_the_same(wagi, wynik3) for wagi in sprawdzone_wagi) is False:\n",
    "                    sprawdzone_wagi.append([row.copy() for row in wynik3])\n",
    "\n",
    "                wagi_macierz = wynik3\n",
    "\n",
    "        if not wagi_zaktualizowane:\n",
    "            break\n",
    "\n",
    "        if contains_positive(wagi_macierz):\n",
    "            \n",
    "            wagi = contains_positive_1(wagi_macierz)\n",
    "\n",
    "            break\n",
    "    print( wagi)"
   ]
  },
  {
   "cell_type": "code",
   "execution_count": 24,
   "id": "bdfc6999-4551-40b9-bc48-24b907baee4d",
   "metadata": {},
   "outputs": [
    {
     "name": "stdout",
     "output_type": "stream",
     "text": [
      "[0, 0, 0, 0, 1]\n"
     ]
    }
   ],
   "source": [
    "odbicia_w_1(D5, 14, ([0,0,0,0,1],[1,0,0,0,-1],[-1,1,0,1,0],[0,1,0,-1,0],\n",
    "            [0,-1,1,1,0],[1,-1,1,-1,0],[0,0,-1,1,0],\n",
    "            [-1,0,1,0,1],[1,0,-1,-1,0],[0,0,0,-1,0],[-1,0,0,1,0],[1,-1,0,0,-1],\n",
    "           [0,-1,0,0,1],[0,1,-1,0,-1]))"
   ]
  },
  {
   "cell_type": "code",
   "execution_count": 25,
   "id": "5d7cf24d-f83e-4fd4-9ffc-58e21ed68f8a",
   "metadata": {},
   "outputs": [
    {
     "name": "stdout",
     "output_type": "stream",
     "text": [
      "[0, 0, 0, 0, 1]\n"
     ]
    }
   ],
   "source": [
    "odbicia_w_1(D5, 16, waga)"
   ]
  },
  {
   "cell_type": "code",
   "execution_count": 26,
   "id": "f2d149ad-ff1f-4f54-956a-44305058ccf3",
   "metadata": {},
   "outputs": [
    {
     "name": "stdout",
     "output_type": "stream",
     "text": [
      "[0, 0, 0, 0, 1]\n"
     ]
    }
   ],
   "source": [
    "odbicia_w_1(D5, 5, ([0,0,0,0,1],[1,0,0,0,-1],[-1,1,0,1,0],[0,1,0,-1,0],\n",
    "            [0,-1,1,1,0]))"
   ]
  },
  {
   "cell_type": "markdown",
   "id": "98649570-a48d-48e1-83e6-5b98af3236a5",
   "metadata": {},
   "source": [
    "### wielokrotne odbijanie na wielu grafach z ro z usuwaniem trywialnych odbić oraz usuwaniem ujemnych list"
   ]
  }
 ],
 "metadata": {
  "kernelspec": {
   "display_name": "Python 3 (ipykernel)",
   "language": "python",
   "name": "python3"
  },
  "language_info": {
   "codemirror_mode": {
    "name": "ipython",
    "version": 3
   },
   "file_extension": ".py",
   "mimetype": "text/x-python",
   "name": "python",
   "nbconvert_exporter": "python",
   "pygments_lexer": "ipython3",
   "version": "3.9.13"
  }
 },
 "nbformat": 4,
 "nbformat_minor": 5
}
