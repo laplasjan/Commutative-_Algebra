{
 "cells": [
  {
   "cell_type": "code",
   "execution_count": 62,
   "id": "dd904401-2729-4f67-935b-c6f50b2d0425",
   "metadata": {},
   "outputs": [],
   "source": [
    "import itertools as it\n",
    "import numpy as np\n",
    "import networkx as nx\n",
    "import matplotlib.pyplot as plt\n",
    "import copy"
   ]
  },
  {
   "cell_type": "code",
   "execution_count": 2,
   "id": "35f7c0fb",
   "metadata": {},
   "outputs": [],
   "source": [
    "def T_pqr(p,q,r):\n",
    "    G = nx.Graph()\n",
    "    if p> 1 and q>1 and r >1:\n",
    "        for i in range(p+q+r-2):\n",
    "            G.add_node(i, waga=i)\n",
    "        for i in range (0, p-1):\n",
    "            G.add_edge(i,i+1)\n",
    "        for i in range (p,p+q-2):\n",
    "            G.add_edge(i,i+1)\n",
    "            G.add_edge(0,p)\n",
    "        for i in range(p+q-1,p+q+r-3):\n",
    "            G.add_edge(i,i+1)\n",
    "            G.add_edge(0,p+q-1)\n",
    "    if p == 1 or q ==1 or r == 1:\n",
    "        for i in range(p+q+r-2):\n",
    "            G.add_node(i, waga=i)\n",
    "        for i in range (0, p+q+r-3):\n",
    "            G.add_edge(i,i+1)\n",
    "    if p == 2:\n",
    "        for i in range(0,p+q+r-2):\n",
    "            G.add_node(i, waga=i)\n",
    "        for i in range (0, 1):\n",
    "            G.add_edge(i,i+1)\n",
    "        for i in range (2,q):\n",
    "            G.add_edge(i,i+1)\n",
    "            G.add_edge(0,2)\n",
    "        for i in range(q+1,q+r-1):\n",
    "            G.add_edge(i,i+1)\n",
    "            G.add_edge(0,q+1)\n",
    "    if q ==2 :\n",
    "        for i in range(0,p+q+r-2):\n",
    "            G.add_node(i, waga=i)\n",
    "        for i in range (0, p-1):\n",
    "            G.add_edge(i,i+1)\n",
    "            G.add_edge(0,p)\n",
    "        for i in range(p+2,p+q+r-3):\n",
    "            G.add_edge(i,i+1)\n",
    "            G.add_edge(0,p+2)\n",
    "    if r == 2:\n",
    "        for i in range(0,p+q+r-2):\n",
    "            G.add_node(i, waga=i)\n",
    "        for i in range (0, p-1):\n",
    "            G.add_edge(i,i+1)\n",
    "        for i in range (p,p+q-2):\n",
    "            G.add_edge(i,i+1)\n",
    "            G.add_edge(0,p)\n",
    "        G.add_edge(0,p+q-1)\n",
    "    return G"
   ]
  },
  {
   "cell_type": "code",
   "execution_count": 3,
   "id": "3d010801-5de1-42a2-890d-b44d843f190d",
   "metadata": {},
   "outputs": [],
   "source": [
    "def symetryczna(A, k):\n",
    "    \n",
    "    max_len = max(len(sublist) for sublist in A)\n",
    "    zewn = []\n",
    "    \n",
    "    for kombinacja in it.combinations_with_replacement(range(len(A)), k):\n",
    "        summed_sublist = []\n",
    "        for j in range(max_len):\n",
    "            sublist_sum = sum(A[i][j] if j < len(A[i]) else 0 for i in kombinacja)\n",
    "            summed_sublist.append(sublist_sum)\n",
    "        zewn.append(summed_sublist)\n",
    "    return zewn"
   ]
  },
  {
   "cell_type": "code",
   "execution_count": 4,
   "id": "080fdd2d",
   "metadata": {},
   "outputs": [],
   "source": [
    "def zewnetrzna(A, k):\n",
    "    \n",
    "    max_len = max(len(sublist) for sublist in A)\n",
    "    zewn = []\n",
    "    \n",
    "    for kombinacja in it.combinations(range(len(A)), k):\n",
    "        summed_sublist = []\n",
    "        for j in range(max_len):\n",
    "            sublist_sum = sum(A[i][j] if j < len(A[i]) else 0 for i in kombinacja)\n",
    "            summed_sublist.append(sublist_sum)\n",
    "        zewn.append(summed_sublist)\n",
    "    return zewn"
   ]
  },
  {
   "cell_type": "code",
   "execution_count": 5,
   "id": "66977750-cca3-4b45-af8b-3bc8ad8bf343",
   "metadata": {},
   "outputs": [],
   "source": [
    "#liczy zewenętrznąale numeruje poszczególne linijki outputu. Dla testów\n",
    "# czy liczy odpowiednio\n",
    "def zewnetrzna_num(A, k):\n",
    "    \n",
    "    max_len = max(len(sublist) for sublist in A)\n",
    "    zewn = []\n",
    "    \n",
    "    for kombinacja in it.combinations(range(len(A)), k):\n",
    "        summed_sublist = []\n",
    "        for j in range(max_len):\n",
    "            sublist_sum = sum(A[i][j] if j < len(A[i]) else 0 for i in kombinacja)\n",
    "            summed_sublist.append(sublist_sum)\n",
    "        zewn.append(summed_sublist)\n",
    "    for idx, wynik in enumerate(zewn, 1):\n",
    "        print(f\"{idx} : {wynik}\")"
   ]
  },
  {
   "cell_type": "code",
   "execution_count": 6,
   "id": "62f36f6d-30d6-4b2c-b9b0-bf0b8205d586",
   "metadata": {},
   "outputs": [],
   "source": [
    "D3= T_pqr(2,2,1)\n",
    "D5= T_pqr(3,2,2)"
   ]
  },
  {
   "cell_type": "code",
   "execution_count": 7,
   "id": "b2e30f54-deeb-4759-ac0b-a267ab833d3b",
   "metadata": {},
   "outputs": [
    {
     "data": {
      "image/png": "[encoded data removed]",
      "text/plain": [
       "<Figure size 640x480 with 1 Axes>"
      ]
     },
     "metadata": {},
     "output_type": "display_data"
    }
   ],
   "source": [
    "nx.draw(D5, with_labels=True, node_size=500, node_color='lightblue', font_weight='bold')\n",
    "plt.show()"
   ]
  },
  {
   "cell_type": "code",
   "execution_count": 8,
   "id": "928692de-e60c-4e2f-bf8b-0e65f7ec169f",
   "metadata": {},
   "outputs": [],
   "source": [
    "waga = tuple([[0,0,0,0,1],[1,0,0,0,-1],[-1,1,0,1,0],[0,1,0,-1,0],\n",
    "            [0,-1,1,1,0],[1,-1,1,-1,0],[0,0,-1,1,0],\n",
    "            [-1,0,1,0,1],[1,0,-1,-1,0],[0,0,0,-1,0],[-1,0,0,1,0],[1,-1,0,0,-1],\n",
    "           [0,-1,0,0,1],[0,1,-1,0,-1],[0,0,1,0,-1], [-1,1,-1,0,1]])"
   ]
  },
  {
   "cell_type": "code",
   "execution_count": 9,
   "id": "bed329e4-2ab8-435f-8869-7fa11e1ba289",
   "metadata": {},
   "outputs": [],
   "source": [
    "def nadawanie_wag(graph, n, wagi):\n",
    "    for i, node in enumerate(graph.nodes()):\n",
    "        graph.nodes[node]['weight'] = wagi[i]"
   ]
  },
  {
   "cell_type": "code",
   "execution_count": 10,
   "id": "16cb9dc4-71df-4608-af5b-9aff6b6b7800",
   "metadata": {},
   "outputs": [],
   "source": [
    "def nadawanie_wag2(graph, n, wagi_macierz):\n",
    "    wagi_wszystkie = []\n",
    "    graphs = [graph for _ in range(n)]\n",
    "    if len(wagi_macierz)< n:\n",
    "        raise ValueError(\"za mało wag\")\n",
    "    if len(wagi_macierz)> n:\n",
    "        raise ValueError(\"za dużo wag\")\n",
    "    for i in range(n):\n",
    "        if len(graph.nodes()) != len(wagi_macierz[i]):\n",
    "            raise ValueError(\"za krótka lista wag dla grafu nr {}\".format(i + 1))\n",
    "    for G, row in zip(graphs, wagi_macierz):\n",
    "        wagi = []\n",
    "        for i, weight in enumerate(row):\n",
    "            G.add_node(i, weight=weight)\n",
    "            wagi.append(weight)\n",
    "        wagi_wszystkie.append(wagi)\n",
    "    return wagi_wszystkie"
   ]
  },
  {
   "cell_type": "code",
   "execution_count": 11,
   "id": "0c8e052c-dbc6-4d95-86dd-4c8c30cbb150",
   "metadata": {},
   "outputs": [],
   "source": [
    "nadawanie_wag(D5, 16, waga)"
   ]
  },
  {
   "cell_type": "code",
   "execution_count": 12,
   "id": "59d5c644-b00f-4204-a988-981f809a9b93",
   "metadata": {},
   "outputs": [],
   "source": [
    "#tak było zdefiniowane odbicie dla jednego grafu\n",
    "def odbicie(G, node):\n",
    "    wagi = [] \n",
    "    \n",
    "    neighbors = list(G.neighbors(node))\n",
    "    \n",
    "    G.nodes[node]['weight'] = - G.nodes[node]['weight']\n",
    "    \n",
    "    for neighbor in neighbors:\n",
    "        nowa_waga = G.nodes[neighbor]['weight'] + G.nodes[node]['weight']\n",
    "        G.nodes[neighbor]['weight'] = nowa_waga\n",
    "        \n",
    "    for _, w in G.nodes(data='weight'):\n",
    "        wagi.append(w)\n",
    "    return wagi"
   ]
  },
  {
   "cell_type": "markdown",
   "id": "6c8dd540-c3f4-4396-a985-375e0a88e427",
   "metadata": {
    "tags": []
   },
   "source": [
    "### pojedyncze odbicie w ustalonym wierzchołku grafów"
   ]
  },
  {
   "cell_type": "code",
   "execution_count": 13,
   "id": "46ef6eac-76a7-4d7b-a6df-11f0c50b5152",
   "metadata": {},
   "outputs": [],
   "source": [
    "def ro_1(graph, n, wagi_macierz):\n",
    "    graphs = [graph.copy() for _ in range(n)]\n",
    "    results = []\n",
    "    wagi_macierz = [list(wagi) for wagi in wagi_macierz]\n",
    "\n",
    "    for i, G in enumerate(graphs):\n",
    "        for node, weight in zip(G.nodes(), wagi_macierz[i]):\n",
    "            G.nodes[node]['weight'] = weight\n",
    "    \n",
    "    for G in graphs:\n",
    "        weights = []\n",
    "        for node in G.nodes():\n",
    "            G.nodes[node]['weight'] += 1\n",
    "            weights.append(G.nodes[node]['weight'])\n",
    "        results.append(weights)\n",
    "    \n",
    "    return results"
   ]
  },
  {
   "cell_type": "code",
   "execution_count": 14,
   "id": "7d8598f9-85f6-4b1f-8879-32e1955dc856",
   "metadata": {},
   "outputs": [
    {
     "data": {
      "text/plain": [
       "[[1, 1, 1, 1, 2],\n",
       " [2, 1, 1, 1, 0],\n",
       " [0, 2, 1, 2, 1],\n",
       " [1, 2, 1, 0, 1],\n",
       " [1, 0, 2, 2, 1],\n",
       " [2, 0, 2, 0, 1],\n",
       " [1, 1, 0, 2, 1],\n",
       " [0, 1, 2, 1, 2],\n",
       " [2, 1, 0, 0, 1],\n",
       " [1, 1, 1, 0, 1],\n",
       " [0, 1, 1, 2, 1],\n",
       " [2, 0, 1, 1, 0],\n",
       " [1, 0, 1, 1, 2],\n",
       " [1, 2, 0, 1, 0],\n",
       " [1, 1, 2, 1, 0],\n",
       " [0, 2, 0, 1, 2]]"
      ]
     },
     "execution_count": 14,
     "metadata": {},
     "output_type": "execute_result"
    }
   ],
   "source": [
    "ro_1(D5, 16, waga)"
   ]
  },
  {
   "cell_type": "code",
   "execution_count": 15,
   "id": "213f5eb8-c5d4-4c3b-aac6-431965709d39",
   "metadata": {},
   "outputs": [],
   "source": [
    "##to z minusem\n",
    "def ro_2(graph, n, wagi_macierz):\n",
    "    graphs = [graph.copy() for _ in range(n)]\n",
    "    results = []\n",
    "    \n",
    "    for i, G in enumerate(graphs):\n",
    "        for node, weight in zip(G.nodes(), wagi_macierz[i]):\n",
    "            G.nodes[node]['weight'] = weight\n",
    "    \n",
    "    for G in graphs:\n",
    "        weights = []\n",
    "        for node in G.nodes():\n",
    "            G.nodes[node]['weight'] -= 1\n",
    "            weights.append(G.nodes[node]['weight'])\n",
    "        results.append(weights)\n",
    "    \n",
    "    return results"
   ]
  },
  {
   "cell_type": "code",
   "execution_count": 16,
   "id": "abc7bb27-6d2d-4313-9e02-17a61b904ea4",
   "metadata": {},
   "outputs": [],
   "source": [
    "def odbicia(graph, n, node, wagi_macierz):\n",
    "    graphs = [graph.copy() for _ in range(n)]\n",
    "    odbicia_list = []\n",
    "    \n",
    "    for idx, (G, wagi) in enumerate(zip(graphs, wagi_macierz)):\n",
    "        if len(wagi) != len(G.nodes()):\n",
    "            raise ValueError(f\"Za krótka lista wag dla grafu nr {idx+1}. Oczekiwano {len(G.nodes())}, otrzymano {len(wagi)}.\")\n",
    "        \n",
    "        nadawanie_wag(G, n, wagi)\n",
    "        \n",
    "        if wagi[node] != 0:\n",
    "            odbicie_result = odbicie(G, node)\n",
    "            odbicia_list.append(odbicie_result)\n",
    "    return odbicia_list"
   ]
  },
  {
   "cell_type": "code",
   "execution_count": 17,
   "id": "3dcdd527-2e6e-4ff4-8c5e-4ad89ad1e4e3",
   "metadata": {},
   "outputs": [
    {
     "data": {
      "text/plain": [
       "[[-2, 1, 0, -1, 0],\n",
       " [1, 1, 0, 1, 0],\n",
       " [-1, -1, 1, -1, 0],\n",
       " [2, -1, 1, 1, 0],\n",
       " [-1, 0, -1, -1, 0],\n",
       " [2, 0, -1, 1, 0],\n",
       " [1, 0, 0, 1, 0],\n",
       " [-2, 0, 0, -1, 0]]"
      ]
     },
     "execution_count": 17,
     "metadata": {},
     "output_type": "execute_result"
    }
   ],
   "source": [
    "odbicia(D5, 16, 3, waga)"
   ]
  },
  {
   "cell_type": "code",
   "execution_count": 18,
   "id": "91aa028b-403f-42f0-8d78-9c829ee77e68",
   "metadata": {},
   "outputs": [],
   "source": [
    "#ta funkcja jest potrzebna tylko do wywołania w odbicia_ro\n",
    "def odbicia_do_ro(graph, n, node, wagi_macierz):\n",
    "    graphs = [graph.copy() for _ in range(n)]\n",
    "    odbicia_list = []\n",
    "    \n",
    "    for idx, (G, wagi) in enumerate(zip(graphs, wagi_macierz)):\n",
    "        if len(wagi) != len(G.nodes()):\n",
    "            raise ValueError(f\"Za krótka lista wag dla grafu nr {idx+1}. Oczekiwano {len(G.nodes())}, otrzymano {len(wagi)}.\")\n",
    "        \n",
    "        nadawanie_wag(G, len(G.nodes()), wagi)\n",
    "        odbicie_result = odbicie(G, node)\n",
    "        odbicia_list.append(odbicie_result)\n",
    "        \n",
    "    return odbicia_list"
   ]
  },
  {
   "cell_type": "code",
   "execution_count": 19,
   "id": "dc40a6c7-75e0-4bbe-b0f2-4acc0711e345",
   "metadata": {},
   "outputs": [
    {
     "data": {
      "text/plain": [
       "[[0, 0, 0, 0, 1],\n",
       " [1, 0, 0, 0, -1],\n",
       " [-2, 1, 0, -1, 0],\n",
       " [1, 1, 0, 1, 0],\n",
       " [-1, -1, 1, -1, 0],\n",
       " [2, -1, 1, 1, 0],\n",
       " [-1, 0, -1, -1, 0],\n",
       " [-1, 0, 1, 0, 1],\n",
       " [2, 0, -1, 1, 0],\n",
       " [1, 0, 0, 1, 0],\n",
       " [-2, 0, 0, -1, 0],\n",
       " [1, -1, 0, 0, -1],\n",
       " [0, -1, 0, 0, 1],\n",
       " [0, 1, -1, 0, -1],\n",
       " [0, 0, 1, 0, -1],\n",
       " [-1, 1, -1, 0, 1]]"
      ]
     },
     "execution_count": 19,
     "metadata": {},
     "output_type": "execute_result"
    }
   ],
   "source": [
    "odbicia_do_ro(D5, 16, 3, waga)"
   ]
  },
  {
   "cell_type": "code",
   "execution_count": 20,
   "id": "7dbe387f-d5fa-4d33-9270-b4fab6227f71",
   "metadata": {},
   "outputs": [],
   "source": [
    "#Ten program może jednak zwracać błędy. Jeśli tak się stanie, trzeba usunąć komendę if wagi[node] != 0:\n",
    "#oraz co ważne również usunąć po jednym tabie w linijkach kodu:\n",
    "#            odbicia_list = ro_1(graph, n, wagi_macierz)\n",
    "#            odbicia_wynik = odbicia_do_ro(graph, n, node, odbicia_list)\n",
    "#            wynik_koncowy = ro_2(graph, n, odbicia_wynik)\n",
    "\n",
    "\n",
    "\n",
    "def odbicia_ro(graph, n, node, wagi_macierz):\n",
    "    graphs = [graph.copy() for _ in range(n)]\n",
    "    odbicia_list = []\n",
    "\n",
    "    for idx, (G, wagi) in enumerate(zip(graphs, wagi_macierz)):\n",
    "        if len(wagi) != len(G.nodes()):\n",
    "            raise ValueError(f\"Za krótka lista wag dla grafu nr {idx+1}. Oczekiwano {len(G.nodes())}, otrzymano {len(wagi)}.\")\n",
    "            \n",
    "        nadawanie_wag(G, len(G.nodes()), wagi)\n",
    "        \n",
    "        if wagi[node] != 0:\n",
    "\n",
    "            odbicia_list = ro_1(graph, n, wagi_macierz)\n",
    "\n",
    "            odbicia_wynik = odbicia_do_ro(graph, n, node, odbicia_list)\n",
    "\n",
    "            wynik_koncowy = ro_2(graph, n, odbicia_wynik)\n",
    "\n",
    "    return wynik_koncowy"
   ]
  },
  {
   "cell_type": "code",
   "execution_count": 21,
   "id": "8cab9e61-25a4-4369-8172-1e99e3a90016",
   "metadata": {},
   "outputs": [
    {
     "data": {
      "text/plain": [
       "[[-1, 0, 0, -2, 1],\n",
       " [0, 0, 0, -2, -1],\n",
       " [-3, 1, 0, -3, 0],\n",
       " [0, 1, 0, -1, 0],\n",
       " [-2, -1, 1, -3, 0],\n",
       " [1, -1, 1, -1, 0],\n",
       " [-2, 0, -1, -3, 0],\n",
       " [-2, 0, 1, -2, 1],\n",
       " [1, 0, -1, -1, 0],\n",
       " [0, 0, 0, -1, 0],\n",
       " [-3, 0, 0, -3, 0],\n",
       " [0, -1, 0, -2, -1],\n",
       " [-1, -1, 0, -2, 1],\n",
       " [-1, 1, -1, -2, -1],\n",
       " [-1, 0, 1, -2, -1],\n",
       " [-2, 1, -1, -2, 1]]"
      ]
     },
     "execution_count": 21,
     "metadata": {},
     "output_type": "execute_result"
    }
   ],
   "source": [
    "odbicia_ro(D5, 16, 3, waga)"
   ]
  },
  {
   "cell_type": "markdown",
   "id": "3c284cef-5f62-42c0-99bd-3be068d58323",
   "metadata": {
    "tags": []
   },
   "source": [
    "### wielokrotne odbijanie na wielu grafach z ro z usuwaniem trywialnych odbić oraz usuwaniem ujemnych list\n",
    "### bez zliczania odbić"
   ]
  },
  {
   "cell_type": "markdown",
   "id": "5dc54cb3-8dd8-45fc-a4d6-0937ae8189ba",
   "metadata": {},
   "source": [
    "# Ten pierwszy odbicia_w_1 ma printowanie poszczególnych etapów, potrzebne mi to było w debugu i może się przydać. Jeśli zależy Ci na czasie, runuj od razu drugie w kolejności odbicia_w_1"
   ]
  },
  {
   "cell_type": "code",
   "execution_count": 22,
   "id": "6c3278d6-f9f6-4b09-85ea-2d3cfe87d5e2",
   "metadata": {},
   "outputs": [],
   "source": [
    "def nadawanie_wag(graph, n, wagi):\n",
    "    graphs = [graph.copy() for _ in range(n)]\n",
    "\n",
    "    for i, node in enumerate(graph.nodes()):\n",
    "        graph.nodes[node]['weight'] = wagi[i]\n"
   ]
  },
  {
   "cell_type": "code",
   "execution_count": 23,
   "id": "71ecad85-c8d1-40b8-b999-7682b615cc67",
   "metadata": {},
   "outputs": [],
   "source": [
    "def odbicia_w_1_printujacy(graph, n, wagi_macierz):\n",
    "    graphs = [graph.copy() for _ in range(n)]\n",
    "    waga_dodatnia = []\n",
    "    waga_po_final = []\n",
    "    sprawdzone_wagi = []\n",
    "    wagi_macierz = [list(wagi) for wagi in wagi_macierz]\n",
    "\n",
    "    def contains_negative(waga_list):\n",
    "        return any(any(weight < 0 for weight in podlista) for podlista in waga_list)\n",
    "\n",
    "    def contains_positive(waga_list):\n",
    "        return any(all(weight >= 0 for weight in podlista) for podlista in waga_list)\n",
    "\n",
    "    def contains_positive_1(waga_list):\n",
    "        return next((podlista for podlista in waga_list if all(weight >= 0 for weight in podlista)), None)\n",
    "\n",
    "    def is_the_same(wagi1, wagi2):\n",
    "        return all(all(a == b for a, b in zip(sublist1, sublist2)) for sublist1, sublist2 in zip(wagi1, wagi2))\n",
    "\n",
    "    for G, wagi in zip(graphs, wagi_macierz):\n",
    "        nadawanie_wag(G, n, wagi_macierz)\n",
    "\n",
    "    wynikx = wagi_macierz\n",
    "\n",
    "    while contains_negative(wynikx):\n",
    "        print(f\"Start iteracji - wynikx: {wynikx}\")\n",
    "        wagi_zaktualizowane = False\n",
    "\n",
    "        sorted_nodes = sorted(G.nodes(data=True), key=lambda x: x[1][\"weight\"], reverse=True)\n",
    "        node = sorted_nodes[0][0]\n",
    "\n",
    "        for i in range(n):\n",
    "            if wynikx[node] != 0:\n",
    "                wynik = ro_1(graph, n, wynikx)\n",
    "                print(f\"Po ro_1: {wynik}\")\n",
    "                wynik2 = odbicia_do_ro(graph, n, node, wynik)\n",
    "                print(f\"Po odbicia_do_ro: {wynik2}\")\n",
    "                wynik3 = ro_2(graph, n, wynik2)\n",
    "                print(f\"Po ro_2: {wynik3}\")\n",
    "\n",
    "                if not is_the_same(wynikx, wynik3):\n",
    "                    waga_po_final.append(wynik3)\n",
    "                    print(f\"Dodano do waga_po_final: {waga_po_final}\")\n",
    "                    wagi_zaktualizowane = True\n",
    "                else:\n",
    "                    print(\"wynik3 jest taki sam jak wynikx, nie aktualizujemy.\")\n",
    "\n",
    "                if contains_positive_1(wynik3) and not any(is_the_same(wagi, wynik3) for wagi in sprawdzone_wagi):\n",
    "                    sprawdzone_wagi.append([row.copy() for row in wynik3])\n",
    "                    print(f\"Dodano do sprawdzone_wagi: {sprawdzone_wagi}\")\n",
    "\n",
    "                wynikx = wynik3\n",
    "                print(f\"Nowe wynikx: {wynikx}\")\n",
    "\n",
    "        if not wagi_zaktualizowane:\n",
    "            print(\"Koniec, brak zmian w tej iteracji.\")\n",
    "            break\n",
    "\n",
    "        if contains_positive(wynikx):\n",
    "            print(f\"Znaleziono wagi dodatnie: {wynikx}\")\n",
    "            wagi = contains_positive_1(wynikx)\n",
    "            break\n",
    "\n",
    "    print(\"Ostateczne wagi:\", wagi)\n"
   ]
  },
  {
   "cell_type": "code",
   "execution_count": 24,
   "id": "fc024dae-0360-402c-9632-a444c4057a57",
   "metadata": {},
   "outputs": [
    {
     "name": "stdout",
     "output_type": "stream",
     "text": [
      "Start iteracji - wynikx: [[0, 0, 0, 0, 1], [1, 0, 0, 0, -1], [-1, 1, 0, 1, 0], [0, 1, 0, -1, 0], [0, -1, 1, 1, 0], [1, -1, 1, -1, 0]]\n",
      "Po ro_1: [[1, 1, 1, 1, 2], [2, 1, 1, 1, 0], [0, 2, 1, 2, 1], [1, 2, 1, 0, 1], [1, 0, 2, 2, 1], [2, 0, 2, 0, 1]]\n",
      "Po odbicia_do_ro: [[0, -1, 0, 1, 2], [1, -1, 0, 1, 0], [-2, -2, -1, 2, 1], [-1, -2, -1, 0, 1], [1, 0, 2, 2, 1], [2, 0, 2, 0, 1]]\n",
      "Po ro_2: [[-1, -2, -1, 0, 1], [0, -2, -1, 0, -1], [-3, -3, -2, 1, 0], [-2, -3, -2, -1, 0], [0, -1, 1, 1, 0], [1, -1, 1, -1, 0]]\n",
      "Dodano do waga_po_final: [[[-1, -2, -1, 0, 1], [0, -2, -1, 0, -1], [-3, -3, -2, 1, 0], [-2, -3, -2, -1, 0], [0, -1, 1, 1, 0], [1, -1, 1, -1, 0]]]\n",
      "Nowe wynikx: [[-1, -2, -1, 0, 1], [0, -2, -1, 0, -1], [-3, -3, -2, 1, 0], [-2, -3, -2, -1, 0], [0, -1, 1, 1, 0], [1, -1, 1, -1, 0]]\n",
      "Po ro_1: [[0, -1, 0, 1, 2], [1, -1, 0, 1, 0], [-2, -2, -1, 2, 1], [-1, -2, -1, 0, 1], [1, 0, 2, 2, 1], [2, 0, 2, 0, 1]]\n",
      "Po odbicia_do_ro: [[1, 1, 1, 1, 2], [2, 1, 1, 1, 0], [0, 2, 1, 2, 1], [1, 2, 1, 0, 1], [1, 0, 2, 2, 1], [2, 0, 2, 0, 1]]\n",
      "Po ro_2: [[0, 0, 0, 0, 1], [1, 0, 0, 0, -1], [-1, 1, 0, 1, 0], [0, 1, 0, -1, 0], [0, -1, 1, 1, 0], [1, -1, 1, -1, 0]]\n",
      "Dodano do waga_po_final: [[[-1, -2, -1, 0, 1], [0, -2, -1, 0, -1], [-3, -3, -2, 1, 0], [-2, -3, -2, -1, 0], [0, -1, 1, 1, 0], [1, -1, 1, -1, 0]], [[0, 0, 0, 0, 1], [1, 0, 0, 0, -1], [-1, 1, 0, 1, 0], [0, 1, 0, -1, 0], [0, -1, 1, 1, 0], [1, -1, 1, -1, 0]]]\n",
      "Dodano do sprawdzone_wagi: [[[0, 0, 0, 0, 1], [1, 0, 0, 0, -1], [-1, 1, 0, 1, 0], [0, 1, 0, -1, 0], [0, -1, 1, 1, 0], [1, -1, 1, -1, 0]]]\n",
      "Nowe wynikx: [[0, 0, 0, 0, 1], [1, 0, 0, 0, -1], [-1, 1, 0, 1, 0], [0, 1, 0, -1, 0], [0, -1, 1, 1, 0], [1, -1, 1, -1, 0]]\n",
      "Po ro_1: [[1, 1, 1, 1, 2], [2, 1, 1, 1, 0], [0, 2, 1, 2, 1], [1, 2, 1, 0, 1], [1, 0, 2, 2, 1], [2, 0, 2, 0, 1]]\n",
      "Po odbicia_do_ro: [[0, -1, 0, 1, 2], [1, -1, 0, 1, 0], [-2, -2, -1, 2, 1], [-1, -2, -1, 0, 1], [1, 0, 2, 2, 1], [2, 0, 2, 0, 1]]\n",
      "Po ro_2: [[-1, -2, -1, 0, 1], [0, -2, -1, 0, -1], [-3, -3, -2, 1, 0], [-2, -3, -2, -1, 0], [0, -1, 1, 1, 0], [1, -1, 1, -1, 0]]\n",
      "Dodano do waga_po_final: [[[-1, -2, -1, 0, 1], [0, -2, -1, 0, -1], [-3, -3, -2, 1, 0], [-2, -3, -2, -1, 0], [0, -1, 1, 1, 0], [1, -1, 1, -1, 0]], [[0, 0, 0, 0, 1], [1, 0, 0, 0, -1], [-1, 1, 0, 1, 0], [0, 1, 0, -1, 0], [0, -1, 1, 1, 0], [1, -1, 1, -1, 0]], [[-1, -2, -1, 0, 1], [0, -2, -1, 0, -1], [-3, -3, -2, 1, 0], [-2, -3, -2, -1, 0], [0, -1, 1, 1, 0], [1, -1, 1, -1, 0]]]\n",
      "Nowe wynikx: [[-1, -2, -1, 0, 1], [0, -2, -1, 0, -1], [-3, -3, -2, 1, 0], [-2, -3, -2, -1, 0], [0, -1, 1, 1, 0], [1, -1, 1, -1, 0]]\n",
      "Po ro_1: [[0, -1, 0, 1, 2], [1, -1, 0, 1, 0], [-2, -2, -1, 2, 1], [-1, -2, -1, 0, 1], [1, 0, 2, 2, 1], [2, 0, 2, 0, 1]]\n",
      "Po odbicia_do_ro: [[1, 1, 1, 1, 2], [2, 1, 1, 1, 0], [0, 2, 1, 2, 1], [1, 2, 1, 0, 1], [1, 0, 2, 2, 1], [2, 0, 2, 0, 1]]\n",
      "Po ro_2: [[0, 0, 0, 0, 1], [1, 0, 0, 0, -1], [-1, 1, 0, 1, 0], [0, 1, 0, -1, 0], [0, -1, 1, 1, 0], [1, -1, 1, -1, 0]]\n",
      "Dodano do waga_po_final: [[[-1, -2, -1, 0, 1], [0, -2, -1, 0, -1], [-3, -3, -2, 1, 0], [-2, -3, -2, -1, 0], [0, -1, 1, 1, 0], [1, -1, 1, -1, 0]], [[0, 0, 0, 0, 1], [1, 0, 0, 0, -1], [-1, 1, 0, 1, 0], [0, 1, 0, -1, 0], [0, -1, 1, 1, 0], [1, -1, 1, -1, 0]], [[-1, -2, -1, 0, 1], [0, -2, -1, 0, -1], [-3, -3, -2, 1, 0], [-2, -3, -2, -1, 0], [0, -1, 1, 1, 0], [1, -1, 1, -1, 0]], [[0, 0, 0, 0, 1], [1, 0, 0, 0, -1], [-1, 1, 0, 1, 0], [0, 1, 0, -1, 0], [0, -1, 1, 1, 0], [1, -1, 1, -1, 0]]]\n",
      "Nowe wynikx: [[0, 0, 0, 0, 1], [1, 0, 0, 0, -1], [-1, 1, 0, 1, 0], [0, 1, 0, -1, 0], [0, -1, 1, 1, 0], [1, -1, 1, -1, 0]]\n",
      "Po ro_1: [[1, 1, 1, 1, 2], [2, 1, 1, 1, 0], [0, 2, 1, 2, 1], [1, 2, 1, 0, 1], [1, 0, 2, 2, 1], [2, 0, 2, 0, 1]]\n",
      "Po odbicia_do_ro: [[0, -1, 0, 1, 2], [1, -1, 0, 1, 0], [-2, -2, -1, 2, 1], [-1, -2, -1, 0, 1], [1, 0, 2, 2, 1], [2, 0, 2, 0, 1]]\n",
      "Po ro_2: [[-1, -2, -1, 0, 1], [0, -2, -1, 0, -1], [-3, -3, -2, 1, 0], [-2, -3, -2, -1, 0], [0, -1, 1, 1, 0], [1, -1, 1, -1, 0]]\n",
      "Dodano do waga_po_final: [[[-1, -2, -1, 0, 1], [0, -2, -1, 0, -1], [-3, -3, -2, 1, 0], [-2, -3, -2, -1, 0], [0, -1, 1, 1, 0], [1, -1, 1, -1, 0]], [[0, 0, 0, 0, 1], [1, 0, 0, 0, -1], [-1, 1, 0, 1, 0], [0, 1, 0, -1, 0], [0, -1, 1, 1, 0], [1, -1, 1, -1, 0]], [[-1, -2, -1, 0, 1], [0, -2, -1, 0, -1], [-3, -3, -2, 1, 0], [-2, -3, -2, -1, 0], [0, -1, 1, 1, 0], [1, -1, 1, -1, 0]], [[0, 0, 0, 0, 1], [1, 0, 0, 0, -1], [-1, 1, 0, 1, 0], [0, 1, 0, -1, 0], [0, -1, 1, 1, 0], [1, -1, 1, -1, 0]], [[-1, -2, -1, 0, 1], [0, -2, -1, 0, -1], [-3, -3, -2, 1, 0], [-2, -3, -2, -1, 0], [0, -1, 1, 1, 0], [1, -1, 1, -1, 0]]]\n",
      "Nowe wynikx: [[-1, -2, -1, 0, 1], [0, -2, -1, 0, -1], [-3, -3, -2, 1, 0], [-2, -3, -2, -1, 0], [0, -1, 1, 1, 0], [1, -1, 1, -1, 0]]\n",
      "Po ro_1: [[0, -1, 0, 1, 2], [1, -1, 0, 1, 0], [-2, -2, -1, 2, 1], [-1, -2, -1, 0, 1], [1, 0, 2, 2, 1], [2, 0, 2, 0, 1]]\n",
      "Po odbicia_do_ro: [[1, 1, 1, 1, 2], [2, 1, 1, 1, 0], [0, 2, 1, 2, 1], [1, 2, 1, 0, 1], [1, 0, 2, 2, 1], [2, 0, 2, 0, 1]]\n",
      "Po ro_2: [[0, 0, 0, 0, 1], [1, 0, 0, 0, -1], [-1, 1, 0, 1, 0], [0, 1, 0, -1, 0], [0, -1, 1, 1, 0], [1, -1, 1, -1, 0]]\n",
      "Dodano do waga_po_final: [[[-1, -2, -1, 0, 1], [0, -2, -1, 0, -1], [-3, -3, -2, 1, 0], [-2, -3, -2, -1, 0], [0, -1, 1, 1, 0], [1, -1, 1, -1, 0]], [[0, 0, 0, 0, 1], [1, 0, 0, 0, -1], [-1, 1, 0, 1, 0], [0, 1, 0, -1, 0], [0, -1, 1, 1, 0], [1, -1, 1, -1, 0]], [[-1, -2, -1, 0, 1], [0, -2, -1, 0, -1], [-3, -3, -2, 1, 0], [-2, -3, -2, -1, 0], [0, -1, 1, 1, 0], [1, -1, 1, -1, 0]], [[0, 0, 0, 0, 1], [1, 0, 0, 0, -1], [-1, 1, 0, 1, 0], [0, 1, 0, -1, 0], [0, -1, 1, 1, 0], [1, -1, 1, -1, 0]], [[-1, -2, -1, 0, 1], [0, -2, -1, 0, -1], [-3, -3, -2, 1, 0], [-2, -3, -2, -1, 0], [0, -1, 1, 1, 0], [1, -1, 1, -1, 0]], [[0, 0, 0, 0, 1], [1, 0, 0, 0, -1], [-1, 1, 0, 1, 0], [0, 1, 0, -1, 0], [0, -1, 1, 1, 0], [1, -1, 1, -1, 0]]]\n",
      "Nowe wynikx: [[0, 0, 0, 0, 1], [1, 0, 0, 0, -1], [-1, 1, 0, 1, 0], [0, 1, 0, -1, 0], [0, -1, 1, 1, 0], [1, -1, 1, -1, 0]]\n",
      "Znaleziono wagi dodatnie: [[0, 0, 0, 0, 1], [1, 0, 0, 0, -1], [-1, 1, 0, 1, 0], [0, 1, 0, -1, 0], [0, -1, 1, 1, 0], [1, -1, 1, -1, 0]]\n",
      "Ostateczne wagi: [0, 0, 0, 0, 1]\n"
     ]
    }
   ],
   "source": [
    "odbicia_w_1_printujacy(D5, 6, ([0,0,0,0,1],[1,0,0,0,-1],[-1,1,0,1,0],[0,1,0,-1,0],\n",
    "            [0,-1,1,1,0],[1,-1,1,-1,0]))"
   ]
  },
  {
   "cell_type": "code",
   "execution_count": 25,
   "id": "f13743f5-76df-4b85-b493-89b56d78fea2",
   "metadata": {},
   "outputs": [],
   "source": [
    "### ten program ma taką samą logikę, ale wyrzuca tylko output\n",
    "def odbicia_w_1(graph, n, wagi_macierz):\n",
    "    graphs = [graph.copy() for _ in range(n)]\n",
    "    waga_dodatnia = []\n",
    "    waga_po_final = []\n",
    "    sprawdzone_wagi = []\n",
    "    wagi_macierz = [list(wagi) for wagi in wagi_macierz]\n",
    "\n",
    "    def contains_negative(waga_list):\n",
    "        return any(any(weight < 0 for weight in podlista) for podlista in waga_list)\n",
    "\n",
    "    def contains_positive(waga_list):\n",
    "        return any(all(weight >= 0 for weight in podlista) for podlista in waga_list)\n",
    "\n",
    "    def contains_positive_1(waga_list):\n",
    "        for podlista in waga_list:\n",
    "            if all(weight >= 0 for weight in podlista):\n",
    "                return podlista\n",
    "                \n",
    "    def is_the_same(wagi1, wagi2):\n",
    "        if all(all(a == b for a, b in zip(sublist1, sublist2)) for sublist1, sublist2 in zip(wagi1, wagi2)):\n",
    "            return True\n",
    "        \n",
    "    for G, wagi in zip(graphs, wagi_macierz):\n",
    "        nadawanie_wag(G, n, wagi_macierz)\n",
    "\n",
    "    while contains_negative(wagi_macierz):\n",
    "        wagi_zaktualizowane = False \n",
    "\n",
    "        sorted_nodes = sorted(G.nodes(data=True), key=lambda x: x[1][\"weight\"], reverse=True)\n",
    "        node = sorted_nodes[0][0]\n",
    "\n",
    "        for i in range(n):\n",
    "            if wagi[node] != 0:\n",
    "                wynik = ro_1(graph, n, wagi_macierz)\n",
    "                wynik2 = odbicia_do_ro(graph, n, node, wynik)\n",
    "                wynik3 = ro_2(graph, n, wynik2)\n",
    "\n",
    "                if not is_the_same(wagi_macierz, wynik3):\n",
    "                    waga_po_final.append(wynik3)\n",
    "                    wagi_zaktualizowane = True \n",
    "                    \n",
    "                if contains_positive_1(wynik3) and (is_the_same(wagi, wynik3) for wagi in sprawdzone_wagi) is False:\n",
    "                    sprawdzone_wagi.append([row.copy() for row in wynik3])\n",
    "\n",
    "                wagi_macierz = wynik3\n",
    "\n",
    "        if not wagi_zaktualizowane:\n",
    "            break\n",
    "\n",
    "        if contains_positive(wagi_macierz):\n",
    "            \n",
    "            wagi = contains_positive_1(wagi_macierz)\n",
    "\n",
    "            break\n",
    "    print( wagi)"
   ]
  },
  {
   "cell_type": "code",
   "execution_count": 26,
   "id": "bdfc6999-4551-40b9-bc48-24b907baee4d",
   "metadata": {},
   "outputs": [
    {
     "name": "stdout",
     "output_type": "stream",
     "text": [
      "[0, 0, 0, 0, 1]\n"
     ]
    }
   ],
   "source": [
    "odbicia_w_1(D5, 14, ([0,0,0,0,1],[1,0,0,0,-1],[-1,1,0,1,0],[0,1,0,-1,0],\n",
    "            [0,-1,1,1,0],[1,-1,1,-1,0],[0,0,-1,1,0],\n",
    "            [-1,0,1,0,1],[1,0,-1,-1,0],[0,0,0,-1,0],[-1,0,0,1,0],[1,-1,0,0,-1],\n",
    "           [0,-1,0,0,1],[0,1,-1,0,-1]))"
   ]
  },
  {
   "cell_type": "code",
   "execution_count": 27,
   "id": "5d7cf24d-f83e-4fd4-9ffc-58e21ed68f8a",
   "metadata": {},
   "outputs": [
    {
     "name": "stdout",
     "output_type": "stream",
     "text": [
      "[0, 0, 0, 0, 1]\n"
     ]
    }
   ],
   "source": [
    "odbicia_w_1(D5, 16, waga)"
   ]
  },
  {
   "cell_type": "code",
   "execution_count": 28,
   "id": "f2d149ad-ff1f-4f54-956a-44305058ccf3",
   "metadata": {},
   "outputs": [
    {
     "name": "stdout",
     "output_type": "stream",
     "text": [
      "[0, 0, 0, 0, 1]\n"
     ]
    }
   ],
   "source": [
    "odbicia_w_1(D5, 5, ([0,0,0,0,1],[1,0,0,0,-1],[-1,1,0,1,0],[0,1,0,-1,0],\n",
    "            [0,-1,1,1,0]))"
   ]
  },
  {
   "cell_type": "code",
   "execution_count": 29,
   "id": "e3d766ea-d49c-42fe-9850-b24eef496484",
   "metadata": {},
   "outputs": [
    {
     "ename": "IndexError",
     "evalue": "list index out of range",
     "output_type": "error",
     "traceback": [
      "\u001b[1;31m---------------------------------------------------------------------------\u001b[0m",
      "\u001b[1;31mIndexError\u001b[0m                                Traceback (most recent call last)",
      "Cell \u001b[1;32mIn[29], line 1\u001b[0m\n\u001b[1;32m----> 1\u001b[0m \u001b[43modbicia_w_1\u001b[49m\u001b[43m(\u001b[49m\u001b[43mD5\u001b[49m\u001b[43m,\u001b[49m\u001b[43m \u001b[49m\u001b[38;5;241;43m2\u001b[39;49m\u001b[43m,\u001b[49m\u001b[43m \u001b[49m\u001b[43m(\u001b[49m\u001b[43m[\u001b[49m\u001b[38;5;241;43m0\u001b[39;49m\u001b[43m,\u001b[49m\u001b[38;5;241;43m0\u001b[39;49m\u001b[43m,\u001b[49m\u001b[38;5;241;43m0\u001b[39;49m\u001b[43m,\u001b[49m\u001b[38;5;241;43m0\u001b[39;49m\u001b[43m,\u001b[49m\u001b[38;5;241;43m1\u001b[39;49m\u001b[43m]\u001b[49m\u001b[43m,\u001b[49m\u001b[43m[\u001b[49m\u001b[38;5;241;43m1\u001b[39;49m\u001b[43m,\u001b[49m\u001b[38;5;241;43m0\u001b[39;49m\u001b[43m,\u001b[49m\u001b[38;5;241;43m0\u001b[39;49m\u001b[43m,\u001b[49m\u001b[38;5;241;43m0\u001b[39;49m\u001b[43m,\u001b[49m\u001b[38;5;241;43m-\u001b[39;49m\u001b[38;5;241;43m1\u001b[39;49m\u001b[43m]\u001b[49m\u001b[43m)\u001b[49m\u001b[43m)\u001b[49m\n",
      "Cell \u001b[1;32mIn[25], line 25\u001b[0m, in \u001b[0;36modbicia_w_1\u001b[1;34m(graph, n, wagi_macierz)\u001b[0m\n\u001b[0;32m     22\u001b[0m         \u001b[38;5;28;01mreturn\u001b[39;00m \u001b[38;5;28;01mTrue\u001b[39;00m\n\u001b[0;32m     24\u001b[0m \u001b[38;5;28;01mfor\u001b[39;00m G, wagi \u001b[38;5;129;01min\u001b[39;00m \u001b[38;5;28mzip\u001b[39m(graphs, wagi_macierz):\n\u001b[1;32m---> 25\u001b[0m     \u001b[43mnadawanie_wag\u001b[49m\u001b[43m(\u001b[49m\u001b[43mG\u001b[49m\u001b[43m,\u001b[49m\u001b[43m \u001b[49m\u001b[43mn\u001b[49m\u001b[43m,\u001b[49m\u001b[43m \u001b[49m\u001b[43mwagi_macierz\u001b[49m\u001b[43m)\u001b[49m\n\u001b[0;32m     27\u001b[0m \u001b[38;5;28;01mwhile\u001b[39;00m contains_negative(wagi_macierz):\n\u001b[0;32m     28\u001b[0m     wagi_zaktualizowane \u001b[38;5;241m=\u001b[39m \u001b[38;5;28;01mFalse\u001b[39;00m \n",
      "Cell \u001b[1;32mIn[22], line 5\u001b[0m, in \u001b[0;36mnadawanie_wag\u001b[1;34m(graph, n, wagi)\u001b[0m\n\u001b[0;32m      2\u001b[0m graphs \u001b[38;5;241m=\u001b[39m [graph\u001b[38;5;241m.\u001b[39mcopy() \u001b[38;5;28;01mfor\u001b[39;00m _ \u001b[38;5;129;01min\u001b[39;00m \u001b[38;5;28mrange\u001b[39m(n)]\n\u001b[0;32m      4\u001b[0m \u001b[38;5;28;01mfor\u001b[39;00m i, node \u001b[38;5;129;01min\u001b[39;00m \u001b[38;5;28menumerate\u001b[39m(graph\u001b[38;5;241m.\u001b[39mnodes()):\n\u001b[1;32m----> 5\u001b[0m     graph\u001b[38;5;241m.\u001b[39mnodes[node][\u001b[38;5;124m'\u001b[39m\u001b[38;5;124mweight\u001b[39m\u001b[38;5;124m'\u001b[39m] \u001b[38;5;241m=\u001b[39m \u001b[43mwagi\u001b[49m\u001b[43m[\u001b[49m\u001b[43mi\u001b[49m\u001b[43m]\u001b[49m\n",
      "\u001b[1;31mIndexError\u001b[0m: list index out of range"
     ]
    }
   ],
   "source": [
    "odbicia_w_1(D5, 2, ([0,0,0,0,1],[1,0,0,0,-1]))"
   ]
  },
  {
   "cell_type": "markdown",
   "id": "98649570-a48d-48e1-83e6-5b98af3236a5",
   "metadata": {},
   "source": [
    "### wielokrotne odbijanie na wielu grafach z ro z usuwaniem trywialnych odbić oraz usuwaniem ujemnych list"
   ]
  },
  {
   "cell_type": "markdown",
   "id": "2e4379ef-9d0d-4898-9555-298dc5b2a85b",
   "metadata": {},
   "source": [
    "# ze zliczaniem odbić"
   ]
  },
  {
   "cell_type": "code",
   "execution_count": 30,
   "id": "43784c73-3ba5-4160-9835-d29b38f96a8d",
   "metadata": {},
   "outputs": [],
   "source": [
    "def odbicia_w_1_num(graph, n, wagi_macierz):\n",
    "    graphs = [graph.copy() for _ in range(n)]\n",
    "    waga_dodatnia = []\n",
    "    waga_po_final = []\n",
    "    sprawdzone_wagi = []\n",
    "    wagi_macierz = [list(wagi) for wagi in wagi_macierz]\n",
    "    odbicia_counter = 0\n",
    "\n",
    "    def contains_negative(waga_list):\n",
    "        return any(any(weight < 0 for weight in podlista) for podlista in waga_list)\n",
    "\n",
    "    def contains_positive(waga_list):\n",
    "        return any(all(weight >= 0 for weight in podlista) for podlista in waga_list)\n",
    "\n",
    "    def contains_positive_1(waga_list):\n",
    "        for podlista in waga_list:\n",
    "            if all(weight >= 0 for weight in podlista):\n",
    "                return podlista\n",
    "                \n",
    "    def is_the_same(wagi1, wagi2):\n",
    "        if all(all(a == b for a, b in zip(sublist1, sublist2)) for sublist1, sublist2 in zip(wagi1, wagi2)):\n",
    "            return True\n",
    "        \n",
    "    for G, wagi in zip(graphs, wagi_macierz):\n",
    "        nadawanie_wag(G, n, wagi_macierz)\n",
    "\n",
    "    while contains_negative(wagi_macierz):\n",
    "        wagi_zaktualizowane = False \n",
    "\n",
    "        sorted_nodes = sorted(G.nodes(data=True), key=lambda x: x[1][\"weight\"], reverse=True)\n",
    "        node = sorted_nodes[0][0]\n",
    "\n",
    "        for i in range(n):\n",
    "            if wagi[node] != 0:\n",
    "                wynik = ro_1(graph, n, wagi_macierz)\n",
    "                wynik2 = odbicia_do_ro(graph, n, node, wynik)\n",
    "                odbicia_counter += 1\n",
    "                wynik3 = ro_2(graph, n, wynik2)\n",
    "\n",
    "                if not is_the_same(wagi_macierz, wynik3):\n",
    "                    waga_po_final.append(wynik3)\n",
    "                    wagi_zaktualizowane = True \n",
    "                if contains_positive_1(wynik3) and (is_the_same(wagi, wynik3) for wagi in sprawdzone_wagi) is False:\n",
    "                    sprawdzone_wagi.append([row.copy() for row in wynik3])\n",
    "                    \n",
    "                wagi_macierz = wynik3\n",
    "\n",
    "        if not wagi_zaktualizowane:\n",
    "            break\n",
    "\n",
    "        if contains_positive(wagi_macierz):            \n",
    "            wagi = contains_positive_1(wagi_macierz)\n",
    "\n",
    "            break\n",
    "    print(f\"Liczba wywołań funkcji odbicia {odbicia_counter}\")\n",
    "    print(wagi)"
   ]
  },
  {
   "cell_type": "code",
   "execution_count": 31,
   "id": "5915b60b-7c9d-4778-ba47-f5a6f116dfd9",
   "metadata": {},
   "outputs": [
    {
     "name": "stdout",
     "output_type": "stream",
     "text": [
      "Liczba wywołań funkcji odbicia 16\n",
      "[0, 0, 0, 0, 1]\n"
     ]
    }
   ],
   "source": [
    "odbicia_w_1_num(D5, 16, ([0,0,0,0,1],[1,0,0,0,-1],[-1,1,0,1,0],[0,1,0,-1,0],\n",
    "            [0,-1,1,1,0],[1,-1,1,-1,0],[0,0,-1,1,0],\n",
    "            [-1,0,1,0,1],[1,0,-1,-1,0],[0,0,0,-1,0],[-1,0,0,1,0],[1,-1,0,0,-1],\n",
    "           [0,-1,0,0,1],[0,1,-1,0,-1],[0,0,1,0,-1], [-1,1,-1,0,1]))"
   ]
  },
  {
   "cell_type": "code",
   "execution_count": null,
   "id": "1155170e-370b-4045-a474-6d8eb14777c5",
   "metadata": {},
   "outputs": [],
   "source": []
  }
 ],
 "metadata": {
  "kernelspec": {
   "display_name": "Python 3 (ipykernel)",
   "language": "python",
   "name": "python3"
  },
  "language_info": {
   "codemirror_mode": {
    "name": "ipython",
    "version": 3
   },
   "file_extension": ".py",
   "mimetype": "text/x-python",
   "name": "python",
   "nbconvert_exporter": "python",
   "pygments_lexer": "ipython3",
   "version": "3.9.13"
  }
 },
 "nbformat": 4,
 "nbformat_minor": 5
}
