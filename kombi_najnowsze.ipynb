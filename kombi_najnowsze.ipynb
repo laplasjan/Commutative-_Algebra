{
  "nbformat": 4,
  "nbformat_minor": 0,
  "metadata": {
    "colab": {
      "provenance": []
    },
    "kernelspec": {
      "name": "python3",
      "display_name": "Python 3"
    },
    "language_info": {
      "name": "python"
    }
  },
  "cells": [
    {
      "cell_type": "code",
      "source": [
        "import itertools as it\n",
        "import numpy as np\n",
        "import networkx as nx\n",
        "import matplotlib.pyplot as plt\n",
        "import copy\n",
        "from collections import defaultdict, Counter"
      ],
      "metadata": {
        "id": "hcqKLBMQiebr"
      },
      "execution_count": null,
      "outputs": []
    },
    {
      "cell_type": "code",
      "execution_count": null,
      "metadata": {
        "id": "CEG_rM45ia2G"
      },
      "outputs": [],
      "source": [
        "def T_pqr(p,q,r):\n",
        "    G = nx.Graph()\n",
        "    if p>2 and q>2 and r >2:\n",
        "        for i in range(p+q+r-2):\n",
        "            G.add_node(i, waga=i)\n",
        "        for i in range (0, p-1):\n",
        "            G.add_edge(i,i+1)\n",
        "        for i in range (p,p+q-2):\n",
        "            G.add_edge(i,i+1)\n",
        "            G.add_edge(0,p)\n",
        "        for i in range(p+q-1,p+q+r-3):\n",
        "            G.add_edge(i,i+1)\n",
        "            G.add_edge(0,p+q-1)\n",
        "    if p == 1 or q ==1 or r == 1:\n",
        "        for i in range(p+q+r-2):\n",
        "            G.add_node(i, waga=i)\n",
        "        for i in range (0, p+q+r-3):\n",
        "            G.add_edge(i,i+1)\n",
        "    if p == 2:\n",
        "        for i in range(0,p+q+r-2):\n",
        "            G.add_node(i, waga=i)\n",
        "        for i in range (0, 1):\n",
        "            G.add_edge(i,i+1)\n",
        "        for i in range (2,q):\n",
        "            G.add_edge(i,i+1)\n",
        "            G.add_edge(0,2)\n",
        "        for i in range(q+1,q+r-1):\n",
        "            G.add_edge(i,i+1)\n",
        "            G.add_edge(0,q+1)\n",
        "    if q ==2 :\n",
        "        for i in range(0,p+q+r-2):\n",
        "            G.add_node(i, waga=i)\n",
        "        for i in range (0, p-1):\n",
        "            G.add_edge(i,i+1)\n",
        "            G.add_edge(0,p)\n",
        "        for i in range(p+2,p+q+r-3):\n",
        "            G.add_edge(i,i+1)\n",
        "            G.add_edge(0,p+2)\n",
        "    if r == 2:\n",
        "        for i in range(0,p+q+r-2):\n",
        "            G.add_node(i, waga=i)\n",
        "        for i in range (0, p-1):\n",
        "            G.add_edge(i,i+1)\n",
        "        for i in range (p,p+q-2):\n",
        "            G.add_edge(i,i+1)\n",
        "            G.add_edge(0,p)\n",
        "        G.add_edge(0,p+q-1)\n",
        "    return G\n",
        "def symetryczna(A, k):\n",
        "\n",
        "    max_len = max(len(sublist) for sublist in A)\n",
        "    zewn = []\n",
        "\n",
        "    for kombinacja in it.combinations_with_replacement(range(len(A)), k):\n",
        "        summed_sublist = []\n",
        "        for j in range(max_len):\n",
        "            sublist_sum = sum(A[i][j] if j < len(A[i]) else 0 for i in kombinacja)\n",
        "            summed_sublist.append(sublist_sum)\n",
        "        zewn.append(summed_sublist)\n",
        "    return zewn\n",
        "\n",
        "def zewnetrzna(A, k):\n",
        "\n",
        "    max_len = max(len(sublist) for sublist in A)\n",
        "    zewn = []\n",
        "\n",
        "    for kombinacja in it.combinations(range(len(A)), k):\n",
        "        summed_sublist = []\n",
        "        for j in range(max_len):\n",
        "            sublist_sum = sum(A[i][j] if j < len(A[i]) else 0 for i in kombinacja)\n",
        "            summed_sublist.append(sublist_sum)\n",
        "        zewn.append(summed_sublist)\n",
        "    return zewn\n",
        "#liczy zewenętrznąale numeruje poszczególne linijki outputu. Dla testów\n",
        "# czy liczy odpowiednio\n",
        "def zewnetrzna_num(A, k):\n",
        "\n",
        "    max_len = max(len(sublist) for sublist in A)\n",
        "    zewn = []\n",
        "\n",
        "    for kombinacja in it.combinations(range(len(A)), k):\n",
        "        summed_sublist = []\n",
        "        for j in range(max_len):\n",
        "            sublist_sum = sum(A[i][j] if j < len(A[i]) else 0 for i in kombinacja)\n",
        "            summed_sublist.append(sublist_sum)\n",
        "        zewn.append(summed_sublist)\n",
        "    for idx, wynik in enumerate(zewn, 1):\n",
        "        print(f\"{idx} : {wynik}\")\n",
        "\n",
        "# redefiniowanie znanych funkcji, aby operowały na krotkach wag a nie na listach wag\n",
        "def nadawanie_wag(G, wagi_lista):\n",
        "    wagi = []\n",
        "    for idx, (node, weight) in enumerate(zip(G.nodes, wagi_lista)):\n",
        "        G.nodes[node]['weight'] = weight\n",
        "    for _, w in G.nodes(data='weight'):\n",
        "        wagi.append(w)\n",
        "    return wagi\n",
        "\n",
        "def odbicie(G, node, wagi):\n",
        "    #jeśli chcesz sprawdzić, czy odbicie działa oraz chcesz mieć wypisane wagi, komenda poniżej to umożliwia:\n",
        "    #print(nadawanie_wag(G, wagi_lista))\n",
        "\n",
        "    wagi = []\n",
        "\n",
        "    neighbors = list(G.neighbors(node))\n",
        "\n",
        "    nowa_waga1 = - G.nodes[node]['weight']\n",
        "    G.nodes[node]['weight'] = nowa_waga1\n",
        "\n",
        "    for neighbor in neighbors:\n",
        "        nowa_waga = G.nodes[neighbor]['weight'] -  G.nodes[node]['weight']\n",
        "        G.nodes[neighbor]['weight'] = nowa_waga\n",
        "    for _, w in G.nodes(data='weight'):\n",
        "        wagi.append(w)\n",
        "    return wagi\n",
        "def ro_1(G, wagi):\n",
        "    wagi = []\n",
        "    for node in G.nodes():\n",
        "        G.nodes[node]['weight'] += 1\n",
        "        wagi.append( G.nodes[node]['weight'])\n",
        "    return wagi\n",
        "def ro_2(G, wagi):\n",
        "    wagi = []\n",
        "    for node in G.nodes():\n",
        "        G.nodes[node]['weight'] -= 1\n",
        "        wagi.append( G.nodes[node]['weight'])\n",
        "    return wagi"
      ]
    },
    {
      "cell_type": "markdown",
      "source": [
        "# **Ta część notatnika poniżej dotyczy części opracji ro dopóki wagi są niedodatnie albo waga się powtórzyła z wagą z inputu**"
      ],
      "metadata": {
        "id": "pwLH2IcFV1Kq"
      }
    },
    {
      "cell_type": "markdown",
      "source": [
        "najpierw program, który outputuje wszystkie outputy z podziałem na ujemne i dodatnie orbity"
      ],
      "metadata": {
        "id": "kCy41DG-WIGK"
      }
    },
    {
      "cell_type": "code",
      "source": [
        "#podział na plusy i minusy\n",
        "\n",
        "### aby zwiększyć limit na councie popraw liczbę w linijce:\n",
        "### while not pozytywne(wagi_kopia) and count < 10000000: (13 linijka, nie licząc pustych)\n",
        "\n",
        "def rownolegle_mod(G, lista_wag):\n",
        "    def pozytywne(wagi):\n",
        "        return all(weight >= 0 for weight in wagi)\n",
        "\n",
        "    wyniki_dla_wszystkich_list = []\n",
        "\n",
        "    for wagi in lista_wag:\n",
        "        wagi_kopia = wagi.copy()\n",
        "        nadawanie_wag(G, wagi_kopia)\n",
        "\n",
        "        count = 0\n",
        "        if pozytywne(wagi_kopia):\n",
        "            wyniki_dla_wszystkich_list.append((tuple(wagi_kopia), count))\n",
        "            continue\n",
        "\n",
        "        poczatkowy_stan = tuple(wagi_kopia)\n",
        "\n",
        "        while not pozytywne(wagi_kopia) and count < 10000:\n",
        "            sorted_nodes = sorted(G.nodes(data=True), key=lambda x: x[1][\"weight\"],\n",
        "                reverse=True)\n",
        "            nodes_ujemne = [node for node, data in sorted_nodes\n",
        "                if isinstance(data.get('weight'), (int, float)) and data['weight'] < 0]\n",
        "\n",
        "            for node in nodes_ujemne:\n",
        "                wynik = ro_1(G, wagi_kopia)\n",
        "                wynik2 = odbicie(G, node, wynik)\n",
        "                wynik3 = ro_2(G, wynik2)\n",
        "\n",
        "                wagi_kopia = wynik3.copy()\n",
        "                count += 1\n",
        "\n",
        "                if pozytywne(wagi_kopia):\n",
        "                    wyniki_dla_wszystkich_list.append((tuple(wagi_kopia), count))\n",
        "                    break\n",
        "\n",
        "                if tuple(wagi_kopia) == poczatkowy_stan:\n",
        "                    wyniki_dla_wszystkich_list.append(([], count))\n",
        "                    break\n",
        "            else:\n",
        "                continue\n",
        "            break\n",
        "\n",
        "    wystapienia_wag = Counter(waga for waga, _ in wyniki_dla_wszystkich_list if waga)\n",
        "\n",
        "    waga_do_count = defaultdict(lambda: {'nieparzyste': 0, 'parzyste': 0})\n",
        "\n",
        "    for waga, count in wyniki_dla_wszystkich_list:\n",
        "        if waga:\n",
        "            if wystapienia_wag[waga] == 1 and count == 0:\n",
        "                waga_do_count[waga]['parzyste'] = 1\n",
        "                waga_do_count[waga]['nieparzyste'] = '0'\n",
        "\n",
        "            else:\n",
        "                if count % 2 == 0:\n",
        "                    waga_do_count[waga]['parzyste'] += 1\n",
        "                else:\n",
        "                    waga_do_count[waga]['nieparzyste'] += 1\n",
        "\n",
        "    wynik = [\n",
        "        {'suma_count_nieparzyste': counts['nieparzyste'], 'suma_count_parzyste':counts['parzyste'], 'waga': list(waga)}\n",
        "        for waga, counts in waga_do_count.items()\n",
        "    ]\n",
        "\n",
        "    return wynik"
      ],
      "metadata": {
        "id": "nasIq_Nwi4Vi"
      },
      "execution_count": null,
      "outputs": []
    },
    {
      "cell_type": "markdown",
      "source": [
        "Ten program outputuje tylko wagi, które mają różne iteracje odatnie i ujemne"
      ],
      "metadata": {
        "id": "o3jg3EKjWUQF"
      }
    },
    {
      "cell_type": "code",
      "source": [
        "#podział na plusy i minusy\n",
        "\n",
        "### aby zwiększyć limit na councie popraw liczbę w linijce:\n",
        "### while not pozytywne(wagi_kopia) and count < 10000000: (13 linijka, nie licząc pustych)\n",
        "\n",
        "### ta procedura redukuje wagi, które mają tyle samo plusów co minusów\n",
        "def rownolegle(G, lista_wag):\n",
        "    def pozytywne(wagi):\n",
        "        return all(weight >= 0 for weight in wagi)\n",
        "\n",
        "    wyniki_dla_wszystkich_list = []\n",
        "\n",
        "    for wagi in lista_wag:\n",
        "        wagi_kopia = wagi.copy()\n",
        "        nadawanie_wag(G, wagi_kopia)\n",
        "\n",
        "        count = 0\n",
        "        if pozytywne(wagi_kopia):\n",
        "            wyniki_dla_wszystkich_list.append((tuple(wagi_kopia), count))\n",
        "            continue\n",
        "\n",
        "        poczatkowy_stan = tuple(wagi_kopia)\n",
        "\n",
        "        while not pozytywne(wagi_kopia) and count < 10000:\n",
        "            sorted_nodes = sorted(G.nodes(data=True), key=lambda x: x[1][\"weight\"],\n",
        "                reverse=True)\n",
        "            nodes_ujemne = [node for node, data in sorted_nodes\n",
        "                if isinstance(data.get('weight'), (int, float)) and data['weight'] < 0]\n",
        "\n",
        "            for node in nodes_ujemne:\n",
        "                wynik = ro_1(G, wagi_kopia)\n",
        "                wynik2 = odbicie(G, node, wynik)\n",
        "                wynik3 = ro_2(G, wynik2)\n",
        "\n",
        "                wagi_kopia = wynik3.copy()\n",
        "                count += 1\n",
        "\n",
        "                if pozytywne(wagi_kopia):\n",
        "                    wyniki_dla_wszystkich_list.append((tuple(wagi_kopia), count))\n",
        "                    break\n",
        "\n",
        "                if tuple(wagi_kopia) == poczatkowy_stan:\n",
        "                    wyniki_dla_wszystkich_list.append(([], count))\n",
        "                    break\n",
        "            else:\n",
        "                continue\n",
        "            break\n",
        "\n",
        "    wystapienia_wag = Counter(waga for waga, _ in wyniki_dla_wszystkich_list if waga)\n",
        "\n",
        "    waga_do_count = defaultdict(lambda: {'nieparzyste': 0, 'parzyste': 0})\n",
        "\n",
        "    for waga, count in wyniki_dla_wszystkich_list:\n",
        "        if waga:\n",
        "            if wystapienia_wag.get(waga, 0) == 1 and count == 0:\n",
        "                waga_do_count[waga]['parzyste'] = 1\n",
        "                waga_do_count[waga]['nieparzyste'] = 0\n",
        "            else:\n",
        "                if count % 2 == 0:\n",
        "                    waga_do_count[waga]['parzyste'] += 1\n",
        "                else:\n",
        "                    waga_do_count[waga]['nieparzyste'] += 1\n",
        "    wynik = [\n",
        "        {'suma_count_nieparzyste': counts['nieparzyste'],\n",
        "         'suma_count_parzyste': counts['parzyste'],\n",
        "         'waga': waga}\n",
        "        for waga, counts in waga_do_count.items()\n",
        "        if counts['parzyste'] != counts['nieparzyste']\n",
        "    ]\n",
        "    return wynik"
      ],
      "metadata": {
        "id": "BJwwCU3yi5LH"
      },
      "execution_count": null,
      "outputs": []
    },
    {
      "cell_type": "code",
      "source": [
        "waga = [[0,0,0,0,1],[1,0,0,0,-1],[-1,1,0,1,0],[0,1,0,-1,0],\n",
        "            [0,-1,1,1,0],[1,-1,1,-1,0],[0,0,-1,1,0],\n",
        "            [-1,0,1,0,1],[1,0,-1,-1,0],[0,0,0,-1,0],[-1,0,0,1,0],[1,-1,0,0,-1],\n",
        "           [0,-1,0,0,1],[0,1,-1,0,-1],[0,0,1,0,-1], [-1,1,-1,0,1]]\n",
        "wagas = symetryczna(waga,5)\n",
        "wagaz = zewnetrzna(waga,5)"
      ],
      "metadata": {
        "id": "bSrdgl5wFNZ9"
      },
      "execution_count": 42,
      "outputs": []
    },
    {
      "cell_type": "code",
      "source": [
        "rownolegle(T_pqr(3,2,2),wagaz)"
      ],
      "metadata": {
        "colab": {
          "base_uri": "https://localhost:8080/"
        },
        "id": "04rQRwgRGVQ8",
        "outputId": "a5b64400-483c-4ece-9cea-3b944a615059"
      },
      "execution_count": null,
      "outputs": [
        {
          "output_type": "execute_result",
          "data": {
            "text/plain": [
              "[{'suma_count_nieparzyste': 0,\n",
              "  'suma_count_parzyste': 1,\n",
              "  'waga': (0, 1, 1, 1, 0)},\n",
              " {'suma_count_nieparzyste': 0,\n",
              "  'suma_count_parzyste': 1,\n",
              "  'waga': (0, 0, 0, 3, 0)}]"
            ]
          },
          "metadata": {},
          "execution_count": 11
        }
      ]
    },
    {
      "cell_type": "code",
      "source": [],
      "metadata": {
        "id": "VJoOQYH4Y8N_"
      },
      "execution_count": null,
      "outputs": []
    },
    {
      "cell_type": "code",
      "source": [],
      "metadata": {
        "id": "OA0LwRUQY8XT"
      },
      "execution_count": null,
      "outputs": []
    },
    {
      "cell_type": "markdown",
      "source": [
        "# Positive- manipulacja na jednej liście wag tak, aby posprawdzać czy jest jakaś nieujemna. Program ma ustalony limit operacji odbicie, działa na posortowanych wierzchołkach, co powoduje uniknięcie identycznościowych odbić. Program w sensowny sposób sprawdza czy jest w skończonym czasie seria odbić prowadząca do nieujemnej wagi"
      ],
      "metadata": {
        "id": "avezd1tBY8mA"
      }
    },
    {
      "cell_type": "markdown",
      "source": [
        "Ten program odbija w najmniejszym wedle wagi wierzchołku"
      ],
      "metadata": {
        "id": "hUvWITXWZ576"
      }
    },
    {
      "cell_type": "code",
      "source": [
        "def positive(G, wagi_lista):\n",
        "    def pozytywne(G):\n",
        "        for node, data in G.nodes(data=True):\n",
        "            if data['weight'] is not None and data['weight'] < 0:\n",
        "                return False\n",
        "        return True\n",
        "\n",
        "    count = 0\n",
        "    nodes_z_odbiciem = []\n",
        "    wagi = []\n",
        "\n",
        "    nadawanie_wag(G, wagi_lista)\n",
        "\n",
        "    if pozytywne(G):\n",
        "      return wagi_lista, count\n",
        "\n",
        "    while count < 10000:\n",
        "        sorted_nodes = sorted(G.nodes(data=True), key=lambda x: x[1][\"weight\"], reverse=True)\n",
        "        nodes_ujemne = [\n",
        "            node for node, data in sorted_nodes\n",
        "            if isinstance(data.get('weight'), (int, float)) and data['weight'] < 0]\n",
        "        for node in nodes_ujemne:\n",
        "            wynik = ro_1(G, wagi_lista)\n",
        "            wynik2 = odbicie(G, node, wynik)\n",
        "            wynik3 = ro_2(G, wynik2)\n",
        "            nodes_z_odbiciem.append(node)\n",
        "\n",
        "            count += 1\n",
        "\n",
        "        if pozytywne(G):\n",
        "            break\n",
        "\n",
        "    for _, w in G.nodes(data='weight'):\n",
        "        wagi.append(w)\n",
        "\n",
        "\n",
        "    return(wagi, count)"
      ],
      "metadata": {
        "id": "1y7Yxk5nZY52"
      },
      "execution_count": 22,
      "outputs": []
    },
    {
      "cell_type": "code",
      "source": [
        "positive(T_pqr(3,2,2), [2,0,0,0,-2])"
      ],
      "metadata": {
        "colab": {
          "base_uri": "https://localhost:8080/"
        },
        "id": "SAjmh53NaLIN",
        "outputId": "fbd301de-f1fa-487a-f441-244326a9e970"
      },
      "execution_count": 23,
      "outputs": [
        {
          "output_type": "execute_result",
          "data": {
            "text/plain": [
              "([1, 0, 0, 0, 0], 1)"
            ]
          },
          "metadata": {},
          "execution_count": 23
        }
      ]
    },
    {
      "cell_type": "markdown",
      "source": [
        "Ten program odbija w największym wierzchołku"
      ],
      "metadata": {
        "id": "oMvFTFc1aB8p"
      }
    },
    {
      "cell_type": "code",
      "source": [
        "def positive(G, wagi_lista):\n",
        "    def pozytywne(G):\n",
        "        for node, data in G.nodes(data=True):\n",
        "            if data['weight'] is not None and data['weight'] < 0:\n",
        "                return False\n",
        "        return True\n",
        "\n",
        "    count = 0\n",
        "    nodes_z_odbiciem = []\n",
        "    wagi = []\n",
        "\n",
        "    nadawanie_wag(G, wagi_lista)\n",
        "    if pozytywne(G):\n",
        "      return wagi_lista, count\n",
        "\n",
        "    while count < 10000:\n",
        "        sorted_nodes = sorted(G.nodes(data=True), key=lambda x: x[1][\"weight\"], reverse=True)\n",
        "        nodes_dodatnie = [\n",
        "            node for node, data in sorted_nodes\n",
        "            if isinstance(data.get('weight'), (int, float)) and data['weight'] > 0]\n",
        "        for node in nodes_dodatnie:\n",
        "            wynik = ro_1(G, wagi_lista)\n",
        "            wynik2 = odbicie(G, node, wynik)\n",
        "            wynik3 = ro_2(G, wynik2)\n",
        "            nodes_z_odbiciem.append(node)\n",
        "\n",
        "            count += 1\n",
        "\n",
        "        if pozytywne(G):\n",
        "            break\n",
        "\n",
        "    for _, w in G.nodes(data='weight'):\n",
        "        wagi.append(w)\n",
        "\n",
        "\n",
        "    return(nodes_z_odbiciem , wagi, count)"
      ],
      "metadata": {
        "id": "6QosNdeCaBG_"
      },
      "execution_count": 20,
      "outputs": []
    },
    {
      "cell_type": "code",
      "source": [
        "positive(T_pqr(3,2,2), [2,0,0,0,2])"
      ],
      "metadata": {
        "colab": {
          "base_uri": "https://localhost:8080/"
        },
        "id": "ioGetkIraqoN",
        "outputId": "0d0a2d73-e366-4fe6-d5cf-3467a8ed46d5"
      },
      "execution_count": 21,
      "outputs": [
        {
          "output_type": "execute_result",
          "data": {
            "text/plain": [
              "([2, 0, 0, 0, 2], 0)"
            ]
          },
          "metadata": {},
          "execution_count": 21
        }
      ]
    },
    {
      "cell_type": "code",
      "source": [],
      "metadata": {
        "id": "So6bjLJlcOUv"
      },
      "execution_count": null,
      "outputs": []
    },
    {
      "cell_type": "code",
      "source": [],
      "metadata": {
        "id": "Vdo2SMXWcOYT"
      },
      "execution_count": null,
      "outputs": []
    },
    {
      "cell_type": "markdown",
      "source": [
        "# **pushing_down : dodawanie do symetrycznej ustalonej wagi**\n",
        "\n"
      ],
      "metadata": {
        "id": "rgOvMBk_cAd2"
      }
    },
    {
      "cell_type": "code",
      "source": [
        "waga = [[0,0,0,0,1],[1,0,0,0,-1],[-1,1,0,1,0],[0,1,0,-1,0],\n",
        "            [0,-1,1,1,0],[1,-1,1,-1,0],[0,0,-1,1,0],\n",
        "            [-1,0,1,0,1],[1,0,-1,-1,0],[0,0,0,-1,0],[-1,0,0,1,0],[1,-1,0,0,-1],\n",
        "           [0,-1,0,0,1],[0,1,-1,0,-1],[0,0,1,0,-1], [-1,1,-1,0,1]]\n",
        "wagas = symetryczna(waga,5)\n",
        "wagaz = zewnetrzna(waga,5)"
      ],
      "metadata": {
        "id": "CENTG2aQeRnj"
      },
      "execution_count": 56,
      "outputs": []
    },
    {
      "cell_type": "code",
      "source": [
        "def pushing_down(G, wagi_lista, k, lista):\n",
        "    zewn = list(symetryczna(wagi_lista, k))\n",
        "    modified_zewn = []\n",
        "\n",
        "    for waga in zewn:\n",
        "        modified_zewn.append([x + y for x, y in zip(waga, lista)])\n",
        "\n",
        "    return modified_zewn"
      ],
      "metadata": {
        "id": "gdN-tw0ubBLF"
      },
      "execution_count": 57,
      "outputs": []
    },
    {
      "cell_type": "code",
      "source": [
        "pushing_down(D5, waga, 2, (1,0,0,0,0))"
      ],
      "metadata": {
        "colab": {
          "base_uri": "https://localhost:8080/"
        },
        "id": "OgdPKG9OcP4t",
        "outputId": "c7c80df5-c182-4018-c243-ae3327e1d7a3"
      },
      "execution_count": 58,
      "outputs": [
        {
          "output_type": "execute_result",
          "data": {
            "text/plain": [
              "[[1, 0, 0, 0, 2],\n",
              " [2, 0, 0, 0, 0],\n",
              " [0, 1, 0, 1, 1],\n",
              " [1, 1, 0, -1, 1],\n",
              " [1, -1, 1, 1, 1],\n",
              " [2, -1, 1, -1, 1],\n",
              " [1, 0, -1, 1, 1],\n",
              " [0, 0, 1, 0, 2],\n",
              " [2, 0, -1, -1, 1],\n",
              " [1, 0, 0, -1, 1],\n",
              " [0, 0, 0, 1, 1],\n",
              " [2, -1, 0, 0, 0],\n",
              " [1, -1, 0, 0, 2],\n",
              " [1, 1, -1, 0, 0],\n",
              " [1, 0, 1, 0, 0],\n",
              " [0, 1, -1, 0, 2],\n",
              " [3, 0, 0, 0, -2],\n",
              " [1, 1, 0, 1, -1],\n",
              " [2, 1, 0, -1, -1],\n",
              " [2, -1, 1, 1, -1],\n",
              " [3, -1, 1, -1, -1],\n",
              " [2, 0, -1, 1, -1],\n",
              " [1, 0, 1, 0, 0],\n",
              " [3, 0, -1, -1, -1],\n",
              " [2, 0, 0, -1, -1],\n",
              " [1, 0, 0, 1, -1],\n",
              " [3, -1, 0, 0, -2],\n",
              " [2, -1, 0, 0, 0],\n",
              " [2, 1, -1, 0, -2],\n",
              " [2, 0, 1, 0, -2],\n",
              " [1, 1, -1, 0, 0],\n",
              " [-1, 2, 0, 2, 0],\n",
              " [0, 2, 0, 0, 0],\n",
              " [0, 0, 1, 2, 0],\n",
              " [1, 0, 1, 0, 0],\n",
              " [0, 1, -1, 2, 0],\n",
              " [-1, 1, 1, 1, 1],\n",
              " [1, 1, -1, 0, 0],\n",
              " [0, 1, 0, 0, 0],\n",
              " [-1, 1, 0, 2, 0],\n",
              " [1, 0, 0, 1, -1],\n",
              " [0, 0, 0, 1, 1],\n",
              " [0, 2, -1, 1, -1],\n",
              " [0, 1, 1, 1, -1],\n",
              " [-1, 2, -1, 1, 1],\n",
              " [1, 2, 0, -2, 0],\n",
              " [1, 0, 1, 0, 0],\n",
              " [2, 0, 1, -2, 0],\n",
              " [1, 1, -1, 0, 0],\n",
              " [0, 1, 1, -1, 1],\n",
              " [2, 1, -1, -2, 0],\n",
              " [1, 1, 0, -2, 0],\n",
              " [0, 1, 0, 0, 0],\n",
              " [2, 0, 0, -1, -1],\n",
              " [1, 0, 0, -1, 1],\n",
              " [1, 2, -1, -1, -1],\n",
              " [1, 1, 1, -1, -1],\n",
              " [0, 2, -1, -1, 1],\n",
              " [1, -2, 2, 2, 0],\n",
              " [2, -2, 2, 0, 0],\n",
              " [1, -1, 0, 2, 0],\n",
              " [0, -1, 2, 1, 1],\n",
              " [2, -1, 0, 0, 0],\n",
              " [1, -1, 1, 0, 0],\n",
              " [0, -1, 1, 2, 0],\n",
              " [2, -2, 1, 1, -1],\n",
              " [1, -2, 1, 1, 1],\n",
              " [1, 0, 0, 1, -1],\n",
              " [1, -1, 2, 1, -1],\n",
              " [0, 0, 0, 1, 1],\n",
              " [3, -2, 2, -2, 0],\n",
              " [2, -1, 0, 0, 0],\n",
              " [1, -1, 2, -1, 1],\n",
              " [3, -1, 0, -2, 0],\n",
              " [2, -1, 1, -2, 0],\n",
              " [1, -1, 1, 0, 0],\n",
              " [3, -2, 1, -1, -1],\n",
              " [2, -2, 1, -1, 1],\n",
              " [2, 0, 0, -1, -1],\n",
              " [2, -1, 2, -1, -1],\n",
              " [1, 0, 0, -1, 1],\n",
              " [1, 0, -2, 2, 0],\n",
              " [0, 0, 0, 1, 1],\n",
              " [2, 0, -2, 0, 0],\n",
              " [1, 0, -1, 0, 0],\n",
              " [0, 0, -1, 2, 0],\n",
              " [2, -1, -1, 1, -1],\n",
              " [1, -1, -1, 1, 1],\n",
              " [1, 1, -2, 1, -1],\n",
              " [1, 0, 0, 1, -1],\n",
              " [0, 1, -2, 1, 1],\n",
              " [-1, 0, 2, 0, 2],\n",
              " [1, 0, 0, -1, 1],\n",
              " [0, 0, 1, -1, 1],\n",
              " [-1, 0, 1, 1, 1],\n",
              " [1, -1, 1, 0, 0],\n",
              " [0, -1, 1, 0, 2],\n",
              " [0, 1, 0, 0, 0],\n",
              " [0, 0, 2, 0, 0],\n",
              " [-1, 1, 0, 0, 2],\n",
              " [3, 0, -2, -2, 0],\n",
              " [2, 0, -1, -2, 0],\n",
              " [1, 0, -1, 0, 0],\n",
              " [3, -1, -1, -1, -1],\n",
              " [2, -1, -1, -1, 1],\n",
              " [2, 1, -2, -1, -1],\n",
              " [2, 0, 0, -1, -1],\n",
              " [1, 1, -2, -1, 1],\n",
              " [1, 0, 0, -2, 0],\n",
              " [0, 0, 0, 0, 0],\n",
              " [2, -1, 0, -1, -1],\n",
              " [1, -1, 0, -1, 1],\n",
              " [1, 1, -1, -1, -1],\n",
              " [1, 0, 1, -1, -1],\n",
              " [0, 1, -1, -1, 1],\n",
              " [-1, 0, 0, 2, 0],\n",
              " [1, -1, 0, 1, -1],\n",
              " [0, -1, 0, 1, 1],\n",
              " [0, 1, -1, 1, -1],\n",
              " [0, 0, 1, 1, -1],\n",
              " [-1, 1, -1, 1, 1],\n",
              " [3, -2, 0, 0, -2],\n",
              " [2, -2, 0, 0, 0],\n",
              " [2, 0, -1, 0, -2],\n",
              " [2, -1, 1, 0, -2],\n",
              " [1, 0, -1, 0, 0],\n",
              " [1, -2, 0, 0, 2],\n",
              " [1, 0, -1, 0, 0],\n",
              " [1, -1, 1, 0, 0],\n",
              " [0, 0, -1, 0, 2],\n",
              " [1, 2, -2, 0, -2],\n",
              " [1, 1, 0, 0, -2],\n",
              " [0, 2, -2, 0, 0],\n",
              " [1, 0, 2, 0, -2],\n",
              " [0, 1, 0, 0, 0],\n",
              " [-1, 2, -2, 0, 2]]"
            ]
          },
          "metadata": {},
          "execution_count": 58
        }
      ]
    }
  ]
}