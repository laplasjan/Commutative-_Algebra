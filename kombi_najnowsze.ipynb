{
 "cells": [
  {
   "cell_type": "code",
   "execution_count": 89,
   "id": "dd904401-2729-4f67-935b-c6f50b2d0425",
   "metadata": {},
   "outputs": [],
   "source": [
    "import itertools as it\n",
    "import numpy as np\n",
    "import networkx as nx\n",
    "import matplotlib.pyplot as plt\n",
    "import copy\n",
    "from collections import defaultdict, Counter"
   ]
  },
  {
   "cell_type": "code",
   "execution_count": 90,
   "id": "35f7c0fb",
   "metadata": {},
   "outputs": [],
   "source": [
    "def T_pqr(p,q,r):\n",
    "    G = nx.Graph()\n",
    "    if p> 1 and q>1 and r >1:\n",
    "        for i in range(p+q+r-2):\n",
    "            G.add_node(i, waga=i)\n",
    "        for i in range (0, p-1):\n",
    "            G.add_edge(i,i+1)\n",
    "        for i in range (p,p+q-2):\n",
    "            G.add_edge(i,i+1)\n",
    "            G.add_edge(0,p)\n",
    "        for i in range(p+q-1,p+q+r-3):\n",
    "            G.add_edge(i,i+1)\n",
    "            G.add_edge(0,p+q-1)\n",
    "    if p == 1 or q ==1 or r == 1:\n",
    "        for i in range(p+q+r-2):\n",
    "            G.add_node(i, waga=i)\n",
    "        for i in range (0, p+q+r-3):\n",
    "            G.add_edge(i,i+1)\n",
    "    if p == 2:\n",
    "        for i in range(0,p+q+r-2):\n",
    "            G.add_node(i, waga=i)\n",
    "        for i in range (0, 1):\n",
    "            G.add_edge(i,i+1)\n",
    "        for i in range (2,q):\n",
    "            G.add_edge(i,i+1)\n",
    "            G.add_edge(0,2)\n",
    "        for i in range(q+1,q+r-1):\n",
    "            G.add_edge(i,i+1)\n",
    "            G.add_edge(0,q+1)\n",
    "    if q ==2 :\n",
    "        for i in range(0,p+q+r-2):\n",
    "            G.add_node(i, waga=i)\n",
    "        for i in range (0, p-1):\n",
    "            G.add_edge(i,i+1)\n",
    "            G.add_edge(0,p)\n",
    "        for i in range(p+2,p+q+r-3):\n",
    "            G.add_edge(i,i+1)\n",
    "            G.add_edge(0,p+2)\n",
    "    if r == 2:\n",
    "        for i in range(0,p+q+r-2):\n",
    "            G.add_node(i, waga=i)\n",
    "        for i in range (0, p-1):\n",
    "            G.add_edge(i,i+1)\n",
    "        for i in range (p,p+q-2):\n",
    "            G.add_edge(i,i+1)\n",
    "            G.add_edge(0,p)\n",
    "        G.add_edge(0,p+q-1)\n",
    "    return G"
   ]
  },
  {
   "cell_type": "code",
   "execution_count": 91,
   "id": "3d010801-5de1-42a2-890d-b44d843f190d",
   "metadata": {},
   "outputs": [],
   "source": [
    "def symetryczna(A, k):\n",
    "    \n",
    "    max_len = max(len(sublist) for sublist in A)\n",
    "    zewn = []\n",
    "    \n",
    "    for kombinacja in it.combinations_with_replacement(range(len(A)), k):\n",
    "        summed_sublist = []\n",
    "        for j in range(max_len):\n",
    "            sublist_sum = sum(A[i][j] if j < len(A[i]) else 0 for i in kombinacja)\n",
    "            summed_sublist.append(sublist_sum)\n",
    "        zewn.append(summed_sublist)\n",
    "    return zewn"
   ]
  },
  {
   "cell_type": "code",
   "execution_count": 92,
   "id": "1c0fda85-fbbf-4a88-821a-d3b4b806c13f",
   "metadata": {},
   "outputs": [],
   "source": [
    "def symetryczna(A, k):\n",
    "    \n",
    "    max_len = max(len(sublist) for sublist in A)\n",
    "    zewn = []\n",
    "    \n",
    "    for kombinacja in it.combinations_with_replacement(range(len(A)), k):\n",
    "        summed_sublist = []\n",
    "        for j in range(max_len):\n",
    "            sublist_sum = sum(A[i][j] if j < len(A[i]) else 0 for i in kombinacja)\n",
    "            summed_sublist.append(sublist_sum)\n",
    "        zewn.append(summed_sublist)\n",
    "    return zewn"
   ]
  },
  {
   "cell_type": "code",
   "execution_count": 93,
   "id": "080fdd2d",
   "metadata": {},
   "outputs": [],
   "source": [
    "def zewnetrzna(A, k):\n",
    "    \n",
    "    max_len = max(len(sublist) for sublist in A)\n",
    "    zewn = []\n",
    "    \n",
    "    for kombinacja in it.combinations(range(len(A)), k):\n",
    "        summed_sublist = []\n",
    "        for j in range(max_len):\n",
    "            sublist_sum = sum(A[i][j] if j < len(A[i]) else 0 for i in kombinacja)\n",
    "            summed_sublist.append(sublist_sum)\n",
    "        zewn.append(summed_sublist)\n",
    "    return zewn"
   ]
  },
  {
   "cell_type": "code",
   "execution_count": 94,
   "id": "66977750-cca3-4b45-af8b-3bc8ad8bf343",
   "metadata": {},
   "outputs": [],
   "source": [
    "#liczy zewenętrznąale numeruje poszczególne linijki outputu. Dla testów\n",
    "# czy liczy odpowiednio\n",
    "def zewnetrzna_num(A, k):\n",
    "    \n",
    "    max_len = max(len(sublist) for sublist in A)\n",
    "    zewn = []\n",
    "    \n",
    "    for kombinacja in it.combinations(range(len(A)), k):\n",
    "        summed_sublist = []\n",
    "        for j in range(max_len):\n",
    "            sublist_sum = sum(A[i][j] if j < len(A[i]) else 0 for i in kombinacja)\n",
    "            summed_sublist.append(sublist_sum)\n",
    "        zewn.append(summed_sublist)\n",
    "    for idx, wynik in enumerate(zewn, 1):\n",
    "        print(f\"{idx} : {wynik}\")"
   ]
  },
  {
   "cell_type": "code",
   "execution_count": 95,
   "id": "62f36f6d-30d6-4b2c-b9b0-bf0b8205d586",
   "metadata": {},
   "outputs": [],
   "source": [
    "D3= T_pqr(2,2,1)\n",
    "D5= T_pqr(3,2,2)"
   ]
  },
  {
   "cell_type": "code",
   "execution_count": 100,
   "id": "b2e30f54-deeb-4759-ac0b-a267ab833d3b",
   "metadata": {},
   "outputs": [
    {
     "data": {
      "image/png": "[encoded data removed]",
      "text/plain": [
       "<Figure size 640x480 with 1 Axes>"
      ]
     },
     "metadata": {},
     "output_type": "display_data"
    }
   ],
   "source": [
    "nx.draw(D5, with_labels=True, node_size=500, node_color='lightblue', font_weight='bold')\n",
    "plt.show()"
   ]
  },
  {
   "cell_type": "code",
   "execution_count": 30,
   "id": "928692de-e60c-4e2f-bf8b-0e65f7ec169f",
   "metadata": {},
   "outputs": [],
   "source": [
    "waga = [[0,0,0,0,1],[1,0,0,0,-1],[-1,1,0,1,0],[0,1,0,-1,0],\n",
    "            [0,-1,1,1,0],[1,-1,1,-1,0],[0,0,-1,1,0],\n",
    "            [-1,0,1,0,1],[1,0,-1,-1,0],[0,0,0,-1,0],[-1,0,0,1,0],[1,-1,0,0,-1],\n",
    "           [0,-1,0,0,1],[0,1,-1,0,-1],[0,0,1,0,-1], [-1,1,-1,0,1]]\n",
    "wagas = tuple(symetryczna(waga,2))\n",
    "\n",
    "wagaaa = list(zewnetrzna(waga, 2))\n",
    "wagaz = zewnetrzna(waga,2)"
   ]
  },
  {
   "cell_type": "markdown",
   "id": "e2dc790d-6f6a-4fa7-a5d7-37d316539bdf",
   "metadata": {
    "tags": []
   },
   "source": [
    "### redefiniowanie znanych funkcji, aby operowały na krotkach wag a nie na listach wag"
   ]
  },
  {
   "cell_type": "code",
   "execution_count": 31,
   "id": "42ad2a7d-61e5-45b9-a12a-0176dba42ef1",
   "metadata": {},
   "outputs": [],
   "source": [
    "def nadawanie_wag(G, wagi_lista):\n",
    "    wagi = []\n",
    "    for idx, (node, weight) in enumerate(zip(G.nodes, wagi_lista)):\n",
    "        G.nodes[node]['weight'] = weight\n",
    "    for _, w in G.nodes(data='weight'):\n",
    "        wagi.append(w)\n",
    "    return wagi"
   ]
  },
  {
   "cell_type": "code",
   "execution_count": 32,
   "id": "56d00082-6e4f-43db-9e9e-f4c8411c9092",
   "metadata": {},
   "outputs": [],
   "source": [
    "def odbicie(G, node, wagi):\n",
    "    #jeśli chcesz sprawdzić, czy odbicie działa oraz chcesz mieć wypisane wagi, komenda poniżej to umożliwia:\n",
    "    #print(nadawanie_wag(G, wagi_lista))\n",
    "    \n",
    "    wagi = [] \n",
    "\n",
    "    neighbors = list(G.neighbors(node))\n",
    "\n",
    "    nowa_waga1 = - G.nodes[node]['weight']\n",
    "    G.nodes[node]['weight'] = nowa_waga1\n",
    "\n",
    "    for neighbor in neighbors:\n",
    "        nowa_waga = G.nodes[neighbor]['weight'] -  G.nodes[node]['weight']\n",
    "        G.nodes[neighbor]['weight'] = nowa_waga\n",
    "    for _, w in G.nodes(data='weight'):\n",
    "        wagi.append(w)\n",
    "    return wagi"
   ]
  },
  {
   "cell_type": "code",
   "execution_count": 33,
   "id": "07a01f42-87d2-4efb-8186-0808b65ce822",
   "metadata": {},
   "outputs": [],
   "source": [
    "def ro_1(G, wagi):    \n",
    "    wagi = []\n",
    "    for node in G.nodes():\n",
    "        G.nodes[node]['weight'] += 1\n",
    "        wagi.append( G.nodes[node]['weight'])\n",
    "    return wagi"
   ]
  },
  {
   "cell_type": "code",
   "execution_count": 34,
   "id": "7ffeba11-5c6b-4000-97d9-bf018da14927",
   "metadata": {},
   "outputs": [],
   "source": [
    "def ro_2(G, wagi):    \n",
    "    wagi = []\n",
    "    for node in G.nodes():\n",
    "        G.nodes[node]['weight'] -= 1\n",
    "        wagi.append( G.nodes[node]['weight'])\n",
    "    return wagi"
   ]
  },
  {
   "cell_type": "markdown",
   "id": "80d9499f-ef31-48c8-8ff1-a9879b4fd4c5",
   "metadata": {},
   "source": [
    "# rownolegle_mod"
   ]
  },
  {
   "cell_type": "code",
   "execution_count": 55,
   "id": "0c70e74e-e983-4ab9-ba15-811650d2aa4b",
   "metadata": {},
   "outputs": [],
   "source": [
    "#podział na plusy i minusy\n",
    "\n",
    "### aby zwiększyć limit na councie popraw liczbę w linijce:\n",
    "### while not pozytywne(wagi_kopia) and count < 10000000: (13 linijka, nie licząc pustych)\n",
    "\n",
    "def rownolegle_mod(G, lista_wag):\n",
    "    def pozytywne(wagi):\n",
    "        return all(weight >= 0 for weight in wagi)\n",
    "\n",
    "    wyniki_dla_wszystkich_list = []\n",
    "\n",
    "    for wagi in lista_wag:\n",
    "        wagi_kopia = wagi.copy()\n",
    "        nadawanie_wag(G, wagi_kopia)\n",
    "\n",
    "        count = 0\n",
    "        if pozytywne(wagi_kopia):\n",
    "            wyniki_dla_wszystkich_list.append((tuple(wagi_kopia), count))\n",
    "            continue\n",
    "\n",
    "        poczatkowy_stan = tuple(wagi_kopia)\n",
    "\n",
    "        while not pozytywne(wagi_kopia) and count < 10000:\n",
    "            sorted_nodes = sorted(G.nodes(data=True), key=lambda x: x[1][\"weight\"],\n",
    "                reverse=True)\n",
    "            nodes_ujemne = [node for node, data in sorted_nodes\n",
    "                if isinstance(data.get('weight'), (int, float)) and data['weight'] < 0]\n",
    "\n",
    "            for node in nodes_ujemne:\n",
    "                wynik = ro_1(G, wagi_kopia)\n",
    "                wynik2 = odbicie(G, node, wynik)\n",
    "                wynik3 = ro_2(G, wynik2)\n",
    "\n",
    "                wagi_kopia = wynik3.copy()\n",
    "                count += 1\n",
    "\n",
    "                if pozytywne(wagi_kopia):\n",
    "                    wyniki_dla_wszystkich_list.append((tuple(wagi_kopia), count))\n",
    "                    break\n",
    "\n",
    "                if tuple(wagi_kopia) == poczatkowy_stan:\n",
    "                    wyniki_dla_wszystkich_list.append(([], count))\n",
    "                    break\n",
    "            else:\n",
    "                continue\n",
    "            break\n",
    "\n",
    "    wystapienia_wag = Counter(waga for waga, _ in wyniki_dla_wszystkich_list if waga)\n",
    "\n",
    "    waga_do_count = defaultdict(lambda: {'nieparzyste': 0, 'parzyste': 0})\n",
    "    \n",
    "    for waga, count in wyniki_dla_wszystkich_list:\n",
    "        if waga:\n",
    "            if wystapienia_wag[waga] == 1 and count == 0:\n",
    "                waga_do_count[waga]['parzyste'] = 1\n",
    "                waga_do_count[waga]['nieparzyste'] = '0'\n",
    "\n",
    "            else:\n",
    "                if count % 2 == 0:\n",
    "                    waga_do_count[waga]['parzyste'] += 1\n",
    "                else:\n",
    "                    waga_do_count[waga]['nieparzyste'] += 1\n",
    "\n",
    "    wynik = [\n",
    "        {'suma_count_nieparzyste': counts['nieparzyste'], 'suma_count_parzyste':counts['parzyste'], 'waga': list(waga)}\n",
    "        for waga, counts in waga_do_count.items()\n",
    "    ]\n",
    "\n",
    "    return wynik\n"
   ]
  },
  {
   "cell_type": "code",
   "execution_count": 56,
   "id": "665f12dc-c880-43fa-b58e-81a190480dd0",
   "metadata": {},
   "outputs": [
    {
     "data": {
      "text/plain": [
       "[{'suma_count_nieparzyste': 2,\n",
       "  'suma_count_parzyste': 0,\n",
       "  'waga': [1, 0, 0, 0, 0]}]"
      ]
     },
     "execution_count": 56,
     "metadata": {},
     "output_type": "execute_result"
    }
   ],
   "source": [
    "rownolegle_mod(D5, ([2,0,0,0,-2],[2,0,0,0,-2]))\n"
   ]
  },
  {
   "cell_type": "code",
   "execution_count": 57,
   "id": "e43fae26-205c-485d-b122-80cb631c460d",
   "metadata": {},
   "outputs": [
    {
     "data": {
      "text/plain": [
       "[{'suma_count_nieparzyste': '0',\n",
       "  'suma_count_parzyste': 1,\n",
       "  'waga': [0, 0, 0, 0, 1]}]"
      ]
     },
     "execution_count": 57,
     "metadata": {},
     "output_type": "execute_result"
    }
   ],
   "source": [
    "#waga\n",
    "rownolegle_mod(D5, waga)"
   ]
  },
  {
   "cell_type": "code",
   "execution_count": 58,
   "id": "99f8f4ea-31c5-4668-b5ee-a69bc774ff5a",
   "metadata": {},
   "outputs": [
    {
     "data": {
      "text/plain": [
       "[{'suma_count_nieparzyste': '0',\n",
       "  'suma_count_parzyste': 1,\n",
       "  'waga': [0, 0, 0, 0, 2]},\n",
       " {'suma_count_nieparzyste': 1,\n",
       "  'suma_count_parzyste': 1,\n",
       "  'waga': [1, 0, 0, 0, 0]},\n",
       " {'suma_count_nieparzyste': 4,\n",
       "  'suma_count_parzyste': 5,\n",
       "  'waga': [0, 0, 1, 0, 0]}]"
      ]
     },
     "execution_count": 58,
     "metadata": {},
     "output_type": "execute_result"
    }
   ],
   "source": [
    "#symetryczna\n",
    "rownolegle_mod(D5, wagas)"
   ]
  },
  {
   "cell_type": "code",
   "execution_count": null,
   "id": "e902b7bf-6824-47e3-8cd7-f4bed3ebb222",
   "metadata": {},
   "outputs": [
    {
     "data": {
      "text/plain": [
       "[{'suma_count_nieparzyste': '0',\n",
       "  'suma_count_parzyste': 1,\n",
       "  'waga': [1, 0, 0, 0, 0]},\n",
       " {'suma_count_nieparzyste': 4,\n",
       "  'suma_count_parzyste': 4,\n",
       "  'waga': [0, 0, 1, 0, 0]}]"
      ]
     },
     "execution_count": 59,
     "metadata": {},
     "output_type": "execute_result"
    }
   ],
   "source": [
    "#zewnetrzna\n",
    "rownolegle_mod(D5, wagaz)"
   ]
  },
  {
   "cell_type": "markdown",
   "id": "ccc9ec05-d271-4724-9ee8-0d3e01ee811e",
   "metadata": {},
   "source": [
    "# rownolegle"
   ]
  },
  {
   "cell_type": "code",
   "execution_count": 85,
   "id": "08c43ced-6d3a-477d-bb0a-cf2ba60d962d",
   "metadata": {},
   "outputs": [],
   "source": [
    "#podział na plusy i minusy\n",
    "\n",
    "### aby zwiększyć limit na councie popraw liczbę w linijce:\n",
    "### while not pozytywne(wagi_kopia) and count < 10000000: (13 linijka, nie licząc pustych)\n",
    "\n",
    "### ta procedura redukuje wagi, które mają tyle samo plusów co minusów\n",
    "def rownolegle(G, lista_wag):\n",
    "    def pozytywne(wagi):\n",
    "        return all(weight >= 0 for weight in wagi)\n",
    "\n",
    "    wyniki_dla_wszystkich_list = []\n",
    "\n",
    "    for wagi in lista_wag:\n",
    "        wagi_kopia = wagi.copy()\n",
    "        nadawanie_wag(G, wagi_kopia)\n",
    "\n",
    "        count = 0\n",
    "        if pozytywne(wagi_kopia):\n",
    "            wyniki_dla_wszystkich_list.append((tuple(wagi_kopia), count))\n",
    "            continue\n",
    "\n",
    "        poczatkowy_stan = tuple(wagi_kopia)\n",
    "\n",
    "        while not pozytywne(wagi_kopia) and count < 10000:\n",
    "            sorted_nodes = sorted(G.nodes(data=True), key=lambda x: x[1][\"weight\"],\n",
    "                reverse=True)\n",
    "            nodes_ujemne = [node for node, data in sorted_nodes\n",
    "                if isinstance(data.get('weight'), (int, float)) and data['weight'] < 0]\n",
    "\n",
    "            for node in nodes_ujemne:\n",
    "                wynik = ro_1(G, wagi_kopia)\n",
    "                wynik2 = odbicie(G, node, wynik)\n",
    "                wynik3 = ro_2(G, wynik2)\n",
    "\n",
    "                wagi_kopia = wynik3.copy()\n",
    "                count += 1\n",
    "\n",
    "                if pozytywne(wagi_kopia):\n",
    "                    wyniki_dla_wszystkich_list.append((tuple(wagi_kopia), count))\n",
    "                    break\n",
    "\n",
    "                if tuple(wagi_kopia) == poczatkowy_stan:\n",
    "                    wyniki_dla_wszystkich_list.append(([], count))\n",
    "                    break\n",
    "            else:\n",
    "                continue\n",
    "            break\n",
    "\n",
    "    wystapienia_wag = Counter(waga for waga, _ in wyniki_dla_wszystkich_list if waga)\n",
    "\n",
    "    waga_do_count = defaultdict(lambda: {'nieparzyste': 0, 'parzyste': 0})\n",
    "    \n",
    "    for waga, count in wyniki_dla_wszystkich_list:\n",
    "        if waga:\n",
    "            if wystapienia_wag.get(waga, 0) == 1 and count == 0:\n",
    "                waga_do_count[waga]['parzyste'] = 1\n",
    "                waga_do_count[waga]['nieparzyste'] = 0\n",
    "            else:\n",
    "                if count % 2 == 0:\n",
    "                    waga_do_count[waga]['parzyste'] += 1\n",
    "                else:\n",
    "                    waga_do_count[waga]['nieparzyste'] += 1\n",
    "    wynik = [\n",
    "        {'suma_count_nieparzyste': counts['nieparzyste'], \n",
    "         'suma_count_parzyste': counts['parzyste'], \n",
    "         'waga': waga}\n",
    "        for waga, counts in waga_do_count.items()\n",
    "        if counts['parzyste'] != counts['nieparzyste']\n",
    "    ]\n",
    "    return wynik"
   ]
  },
  {
   "cell_type": "code",
   "execution_count": 86,
   "id": "5491b1a7-5740-4ec6-81a9-a1b2248c9a69",
   "metadata": {},
   "outputs": [
    {
     "data": {
      "text/plain": [
       "[{'suma_count_nieparzyste': 0,\n",
       "  'suma_count_parzyste': 1,\n",
       "  'waga': (0, 0, 0, 0, 1)}]"
      ]
     },
     "execution_count": 86,
     "metadata": {},
     "output_type": "execute_result"
    }
   ],
   "source": [
    "rownolegle(D5, waga)"
   ]
  },
  {
   "cell_type": "code",
   "execution_count": 87,
   "id": "bfee17a6-bb5a-4f1a-b78c-ed35d4ae4870",
   "metadata": {},
   "outputs": [
    {
     "data": {
      "text/plain": [
       "[{'suma_count_nieparzyste': 0,\n",
       "  'suma_count_parzyste': 1,\n",
       "  'waga': (0, 0, 0, 0, 2)},\n",
       " {'suma_count_nieparzyste': 4,\n",
       "  'suma_count_parzyste': 5,\n",
       "  'waga': (0, 0, 1, 0, 0)}]"
      ]
     },
     "execution_count": 87,
     "metadata": {},
     "output_type": "execute_result"
    }
   ],
   "source": [
    "rownolegle(D5, wagas)"
   ]
  },
  {
   "cell_type": "code",
   "execution_count": 88,
   "id": "646ff18c-50f7-4a36-9b47-469efd51dbd2",
   "metadata": {},
   "outputs": [
    {
     "data": {
      "text/plain": [
       "[{'suma_count_nieparzyste': 0,\n",
       "  'suma_count_parzyste': 1,\n",
       "  'waga': (1, 0, 0, 0, 0)}]"
      ]
     },
     "execution_count": 88,
     "metadata": {},
     "output_type": "execute_result"
    }
   ],
   "source": [
    "rownolegle(D5, wagaz)"
   ]
  },
  {
   "cell_type": "code",
   "execution_count": null,
   "id": "59367d31-33bc-4915-96dc-56fdbe8d879f",
   "metadata": {},
   "outputs": [],
   "source": []
  }
 ],
 "metadata": {
  "kernelspec": {
   "display_name": "Python 3 (ipykernel)",
   "language": "python",
   "name": "python3"
  },
  "language_info": {
   "codemirror_mode": {
    "name": "ipython",
    "version": 3
   },
   "file_extension": ".py",
   "mimetype": "text/x-python",
   "name": "python",
   "nbconvert_exporter": "python",
   "pygments_lexer": "ipython3",
   "version": "3.9.13"
  }
 },
 "nbformat": 4,
 "nbformat_minor": 5
}
